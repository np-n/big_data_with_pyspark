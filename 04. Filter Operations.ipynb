{
 "cells": [
  {
   "cell_type": "code",
   "execution_count": 1,
   "id": "b6ea1afc-0250-4729-8f2f-0a0258eed8d5",
   "metadata": {},
   "outputs": [],
   "source": [
    "from pyspark.sql import SparkSession"
   ]
  },
  {
   "cell_type": "code",
   "execution_count": 2,
   "id": "d9c3f448-4a11-4948-8550-667aa110bf5b",
   "metadata": {},
   "outputs": [
    {
     "name": "stderr",
     "output_type": "stream",
     "text": [
      "Setting default log level to \"WARN\".\n",
      "To adjust logging level use sc.setLogLevel(newLevel). For SparkR, use setLogLevel(newLevel).\n",
      "23/10/08 09:07:39 WARN NativeCodeLoader: Unable to load native-hadoop library for your platform... using builtin-java classes where applicable\n"
     ]
    }
   ],
   "source": [
    "spark_session = SparkSession.builder.appName(\"data_operations\").getOrCreate()"
   ]
  },
  {
   "cell_type": "code",
   "execution_count": 3,
   "id": "16213e50-9cc3-4222-8d43-7caeaa620ecc",
   "metadata": {},
   "outputs": [],
   "source": [
    "# Read the dataset\n",
    "df = spark_session.read.csv(\"./data/pii_data.csv\", header=True, inferSchema=True)"
   ]
  },
  {
   "cell_type": "code",
   "execution_count": 4,
   "id": "db36490e-fe6e-41b0-811d-8c0e2b0ecfd1",
   "metadata": {},
   "outputs": [
    {
     "name": "stdout",
     "output_type": "stream",
     "text": [
      "root\n",
      " |-- Name: string (nullable = true)\n",
      " |-- Age: integer (nullable = true)\n",
      " |-- Sex: string (nullable = true)\n",
      " |-- Address: string (nullable = true)\n",
      " |-- Contact: string (nullable = true)\n",
      " |-- Salary: integer (nullable = true)\n",
      "\n"
     ]
    }
   ],
   "source": [
    "df.printSchema()"
   ]
  },
  {
   "cell_type": "code",
   "execution_count": 5,
   "id": "2bd2cc6c-5d7b-489c-879d-124ffb33194a",
   "metadata": {},
   "outputs": [
    {
     "name": "stdout",
     "output_type": "stream",
     "text": [
      "+----------+---+------+-----------------+----------------+------+\n",
      "|      Name|Age|   Sex|          Address|         Contact|Salary|\n",
      "+----------+---+------+-----------------+----------------+------+\n",
      "|  John Doe| 30|  Male|123 Main St, City|john@example.com| 50000|\n",
      "|Jane Smith| 25|Female| 456 Elm St, Town|jane@example.com| 45000|\n",
      "+----------+---+------+-----------------+----------------+------+\n",
      "only showing top 2 rows\n",
      "\n"
     ]
    }
   ],
   "source": [
    "df.show(2)"
   ]
  },
  {
   "cell_type": "markdown",
   "id": "210d6571-a2e0-4a92-b8e0-61d739dcf13b",
   "metadata": {},
   "source": [
    "### Filter Operation\n",
    "- `>`, `<`, `<>`, `=`\n",
    "- `&`, `|`, `~`"
   ]
  },
  {
   "cell_type": "code",
   "execution_count": 6,
   "id": "66295210-d31a-4b38-8678-286cdaf862a3",
   "metadata": {},
   "outputs": [
    {
     "name": "stdout",
     "output_type": "stream",
     "text": [
      "+-----------------+---+------+--------------------+--------------------+------+\n",
      "|             Name|Age|   Sex|             Address|             Contact|Salary|\n",
      "+-----------------+---+------+--------------------+--------------------+------+\n",
      "|         John Doe| 30|  Male|   123 Main St, City|    john@example.com| 50000|\n",
      "|       Jane Smith| 25|Female|    456 Elm St, Town|    jane@example.com| 45000|\n",
      "|   Robert Johnson| 35|  Male| 789 Oak St, Village|  robert@example.com| 60000|\n",
      "|      Emily Davis| 28|Female| 101 Pine St, Hamlet|   emily@example.com| 55000|\n",
      "|    Michael Brown| 40|  NULL|222 Cedar St, County| michael@example.com| 70000|\n",
      "|     James Miller| 29|  Male|444 Birch St, Tow...|   james@example.com| 52000|\n",
      "|      Lisa Garcia| 27|  NULL|555 Oakwood St, Town|    lisa@example.com| 48000|\n",
      "|    Olivia Taylor| 31|Female|777 Elmwood St, C...|  olivia@example.com| 57000|\n",
      "|    Sophia Harris| 26|Female|999 Cedarwood St,...|  sophia@example.com| 47000|\n",
      "|Christopher Davis| 34|  Male|111 Oakside St, V...|   chris@example.com| 61000|\n",
      "|    Emma Anderson| 24|Female|222 Elmridge St, ...|    emma@example.com| 44000|\n",
      "|     Joseph Smith| 37|  Male|333 Birchwood St,...|  joseph@example.com| 63000|\n",
      "|      Mia Johnson| 30|Female|444 Maplewood St,...|     mia@example.com| 49000|\n",
      "|     David Wilson| 36|  Male|555 Pinehurst St,...|   david@example.com| 64000|\n",
      "|        Ava Brown| 28|Female|666 Oakridge St, ...|     ava@example.com| 46000|\n",
      "|  Benjamin Taylor| 39|  Male|777 Cedarhurst St...|benjamin@example.com| 65000|\n",
      "|    Charlotte Lee| 29|Female|888 Elmridge St, ...|charlotte@example...| 50000|\n",
      "+-----------------+---+------+--------------------+--------------------+------+\n",
      "\n"
     ]
    }
   ],
   "source": [
    "# Filter the dataframe in such a way that employees having a salary greater than 30000 are considered\n",
    "df.filter(\"Salary>30000\").show()"
   ]
  },
  {
   "cell_type": "code",
   "execution_count": 7,
   "id": "0325fbb4-83c1-45cf-8e3a-297bbe2d6014",
   "metadata": {},
   "outputs": [
    {
     "name": "stdout",
     "output_type": "stream",
     "text": [
      "+-----------------+---+------+--------------------+--------------------+------+\n",
      "|             Name|Age|   Sex|             Address|             Contact|Salary|\n",
      "+-----------------+---+------+--------------------+--------------------+------+\n",
      "|         John Doe| 30|  Male|   123 Main St, City|    john@example.com| 50000|\n",
      "|       Jane Smith| 25|Female|    456 Elm St, Town|    jane@example.com| 45000|\n",
      "|   Robert Johnson| 35|  Male| 789 Oak St, Village|  robert@example.com| 60000|\n",
      "|      Emily Davis| 28|Female| 101 Pine St, Hamlet|   emily@example.com| 55000|\n",
      "|    Michael Brown| 40|  NULL|222 Cedar St, County| michael@example.com| 70000|\n",
      "|     James Miller| 29|  Male|444 Birch St, Tow...|   james@example.com| 52000|\n",
      "|      Lisa Garcia| 27|  NULL|555 Oakwood St, Town|    lisa@example.com| 48000|\n",
      "|    Olivia Taylor| 31|Female|777 Elmwood St, C...|  olivia@example.com| 57000|\n",
      "|    Sophia Harris| 26|Female|999 Cedarwood St,...|  sophia@example.com| 47000|\n",
      "|Christopher Davis| 34|  Male|111 Oakside St, V...|   chris@example.com| 61000|\n",
      "|    Emma Anderson| 24|Female|222 Elmridge St, ...|    emma@example.com| 44000|\n",
      "|     Joseph Smith| 37|  Male|333 Birchwood St,...|  joseph@example.com| 63000|\n",
      "|      Mia Johnson| 30|Female|444 Maplewood St,...|     mia@example.com| 49000|\n",
      "|     David Wilson| 36|  Male|555 Pinehurst St,...|   david@example.com| 64000|\n",
      "|        Ava Brown| 28|Female|666 Oakridge St, ...|     ava@example.com| 46000|\n",
      "|  Benjamin Taylor| 39|  Male|777 Cedarhurst St...|benjamin@example.com| 65000|\n",
      "|    Charlotte Lee| 29|Female|888 Elmridge St, ...|charlotte@example...| 50000|\n",
      "+-----------------+---+------+--------------------+--------------------+------+\n",
      "\n"
     ]
    }
   ],
   "source": [
    "# Alternative method\n",
    "df.filter(df[\"Salary\"]>30000).show()"
   ]
  },
  {
   "cell_type": "code",
   "execution_count": 8,
   "id": "c152875c-318f-4ee3-a388-db606103af19",
   "metadata": {},
   "outputs": [
    {
     "name": "stdout",
     "output_type": "stream",
     "text": [
      "+-----------------+------+\n",
      "|             Name|Salary|\n",
      "+-----------------+------+\n",
      "|         John Doe| 50000|\n",
      "|       Jane Smith| 45000|\n",
      "|   Robert Johnson| 60000|\n",
      "|      Emily Davis| 55000|\n",
      "|    Michael Brown| 70000|\n",
      "|     James Miller| 52000|\n",
      "|      Lisa Garcia| 48000|\n",
      "|    Olivia Taylor| 57000|\n",
      "|    Sophia Harris| 47000|\n",
      "|Christopher Davis| 61000|\n",
      "|    Emma Anderson| 44000|\n",
      "|     Joseph Smith| 63000|\n",
      "|      Mia Johnson| 49000|\n",
      "|     David Wilson| 64000|\n",
      "|        Ava Brown| 46000|\n",
      "|  Benjamin Taylor| 65000|\n",
      "|    Charlotte Lee| 50000|\n",
      "+-----------------+------+\n",
      "\n"
     ]
    }
   ],
   "source": [
    "# get only the name of employees having salary greater than 30000\n",
    "df.filter(\"Salary>30000\").select([\"Name\", \"Salary\"]).show()"
   ]
  },
  {
   "cell_type": "code",
   "execution_count": 9,
   "id": "24c811cd-1da2-420d-ba3f-593781079f74",
   "metadata": {},
   "outputs": [
    {
     "name": "stdout",
     "output_type": "stream",
     "text": [
      "+-------------+---+------+--------------------+------------------+------+\n",
      "|         Name|Age|   Sex|             Address|           Contact|Salary|\n",
      "+-------------+---+------+--------------------+------------------+------+\n",
      "|   Jane Smith| 25|Female|    456 Elm St, Town|  jane@example.com| 45000|\n",
      "|  Lisa Garcia| 27|  NULL|555 Oakwood St, Town|  lisa@example.com| 48000|\n",
      "|Sophia Harris| 26|Female|999 Cedarwood St,...|sophia@example.com| 47000|\n",
      "|Emma Anderson| 24|Female|222 Elmridge St, ...|  emma@example.com| 44000|\n",
      "|  Mia Johnson| 30|Female|444 Maplewood St,...|   mia@example.com| 49000|\n",
      "|    Ava Brown| 28|Female|666 Oakridge St, ...|   ava@example.com| 46000|\n",
      "+-------------+---+------+--------------------+------------------+------+\n",
      "\n"
     ]
    }
   ],
   "source": [
    "# Get data of employees having salary greater than 30000 but less than 50000\n",
    "df.filter((df[\"Salary\"]>30000) & (df[\"Salary\"]<50000)).show()"
   ]
  },
  {
   "cell_type": "code",
   "execution_count": 10,
   "id": "259978e5-8370-491a-920f-71798f8c8060",
   "metadata": {},
   "outputs": [
    {
     "name": "stdout",
     "output_type": "stream",
     "text": [
      "+-----------------+---+------+--------------------+--------------------+------+\n",
      "|             Name|Age|   Sex|             Address|             Contact|Salary|\n",
      "+-----------------+---+------+--------------------+--------------------+------+\n",
      "|       Jane Smith| 25|Female|    456 Elm St, Town|    jane@example.com| 45000|\n",
      "|   Robert Johnson| 35|  Male| 789 Oak St, Village|  robert@example.com| 60000|\n",
      "|    Michael Brown| 40|  NULL|222 Cedar St, County| michael@example.com| 70000|\n",
      "|     Sarah Wilson| 33|Female|333 Maple St, Suburb|   sarah@example.com|  NULL|\n",
      "|      Lisa Garcia| 27|  NULL|555 Oakwood St, Town|    lisa@example.com| 48000|\n",
      "|      William Lee| 38|  NULL|666 Pinecrest St,...| william@example.com|  NULL|\n",
      "|    Olivia Taylor| 31|Female|777 Elmwood St, C...|  olivia@example.com| 57000|\n",
      "|    Sophia Harris| 26|Female|999 Cedarwood St,...|  sophia@example.com| 47000|\n",
      "|Christopher Davis| 34|  Male|111 Oakside St, V...|   chris@example.com| 61000|\n",
      "|    Emma Anderson| 24|Female|222 Elmridge St, ...|    emma@example.com| 44000|\n",
      "|     Joseph Smith| 37|  Male|333 Birchwood St,...|  joseph@example.com| 63000|\n",
      "|      Mia Johnson| 30|Female|444 Maplewood St,...|     mia@example.com| 49000|\n",
      "|     David Wilson| 36|  Male|555 Pinehurst St,...|   david@example.com| 64000|\n",
      "|        Ava Brown| 28|Female|666 Oakridge St, ...|     ava@example.com| 46000|\n",
      "|  Benjamin Taylor| 39|  Male|777 Cedarhurst St...|benjamin@example.com| 65000|\n",
      "+-----------------+---+------+--------------------+--------------------+------+\n",
      "\n"
     ]
    }
   ],
   "source": [
    "# Employees having salary greater than 30000 and less than 50000 or age greater than 30\n",
    "df.filter((df[\"Salary\"]>30000) & (df[\"Salary\"]<50000) | (df[\"Age\"]>30)).show()"
   ]
  },
  {
   "cell_type": "code",
   "execution_count": 11,
   "id": "66be1d8c-4bc8-46b1-82aa-0ce8e0c30c55",
   "metadata": {},
   "outputs": [
    {
     "name": "stdout",
     "output_type": "stream",
     "text": [
      "+-----------------+---+------+--------------------+--------------------+------+\n",
      "|             Name|Age|   Sex|             Address|             Contact|Salary|\n",
      "+-----------------+---+------+--------------------+--------------------+------+\n",
      "|   Robert Johnson| 35|  Male| 789 Oak St, Village|  robert@example.com| 60000|\n",
      "|    Michael Brown| 40|  NULL|222 Cedar St, County| michael@example.com| 70000|\n",
      "|     Sarah Wilson| 33|Female|333 Maple St, Suburb|   sarah@example.com|  NULL|\n",
      "|      William Lee| 38|  NULL|666 Pinecrest St,...| william@example.com|  NULL|\n",
      "|    Olivia Taylor| 31|Female|777 Elmwood St, C...|  olivia@example.com| 57000|\n",
      "|Christopher Davis| 34|  Male|111 Oakside St, V...|   chris@example.com| 61000|\n",
      "|     Joseph Smith| 37|  Male|333 Birchwood St,...|  joseph@example.com| 63000|\n",
      "|     David Wilson| 36|  Male|555 Pinehurst St,...|   david@example.com| 64000|\n",
      "|  Benjamin Taylor| 39|  Male|777 Cedarhurst St...|benjamin@example.com| 65000|\n",
      "+-----------------+---+------+--------------------+--------------------+------+\n",
      "\n"
     ]
    }
   ],
   "source": [
    "# not operation\n",
    "df.filter(~(df[\"Salary\"]>30000) & (df[\"Salary\"]<50000) | (df[\"Age\"]>30)).show()"
   ]
  },
  {
   "cell_type": "code",
   "execution_count": null,
   "id": "82abf87d-b31e-47ae-934e-88a984eb6b88",
   "metadata": {},
   "outputs": [],
   "source": []
  }
 ],
 "metadata": {
  "kernelspec": {
   "display_name": "Python 3 (ipykernel)",
   "language": "python",
   "name": "python3"
  },
  "language_info": {
   "codemirror_mode": {
    "name": "ipython",
    "version": 3
   },
   "file_extension": ".py",
   "mimetype": "text/x-python",
   "name": "python",
   "nbconvert_exporter": "python",
   "pygments_lexer": "ipython3",
   "version": "3.8.18"
  }
 },
 "nbformat": 4,
 "nbformat_minor": 5
}
