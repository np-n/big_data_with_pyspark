{
 "cells": [
  {
   "cell_type": "code",
   "execution_count": 1,
   "id": "8844cc4d-b5e4-4aa1-b294-8fd52a661ffc",
   "metadata": {},
   "outputs": [],
   "source": [
    "from pyspark.sql import SparkSession"
   ]
  },
  {
   "cell_type": "code",
   "execution_count": 3,
   "id": "20ff3f7b-af17-4e28-9fa0-d8c414b258a7",
   "metadata": {},
   "outputs": [
    {
     "name": "stderr",
     "output_type": "stream",
     "text": [
      "Setting default log level to \"WARN\".\n",
      "To adjust logging level use sc.setLogLevel(newLevel). For SparkR, use setLogLevel(newLevel).\n",
      "23/10/07 17:20:54 WARN NativeCodeLoader: Unable to load native-hadoop library for your platform... using builtin-java classes where applicable\n",
      "23/10/07 17:20:55 WARN Utils: Service 'SparkUI' could not bind on port 4040. Attempting port 4041.\n",
      "23/10/07 17:20:55 WARN Utils: Service 'SparkUI' could not bind on port 4041. Attempting port 4042.\n"
     ]
    }
   ],
   "source": [
    "spark_session = SparkSession.builder.appName(\"handling_missing_data\").getOrCreate()"
   ]
  },
  {
   "cell_type": "code",
   "execution_count": 4,
   "id": "21977697-bd9f-4e55-af11-d5f61bb30adb",
   "metadata": {},
   "outputs": [
    {
     "data": {
      "text/html": [
       "\n",
       "            <div>\n",
       "                <p><b>SparkSession - in-memory</b></p>\n",
       "                \n",
       "        <div>\n",
       "            <p><b>SparkContext</b></p>\n",
       "\n",
       "            <p><a href=\"http://npn-ideapad-2023:4042\">Spark UI</a></p>\n",
       "\n",
       "            <dl>\n",
       "              <dt>Version</dt>\n",
       "                <dd><code>v3.5.0</code></dd>\n",
       "              <dt>Master</dt>\n",
       "                <dd><code>local[*]</code></dd>\n",
       "              <dt>AppName</dt>\n",
       "                <dd><code>handling_missing_data</code></dd>\n",
       "            </dl>\n",
       "        </div>\n",
       "        \n",
       "            </div>\n",
       "        "
      ],
      "text/plain": [
       "<pyspark.sql.session.SparkSession at 0x7fb9c805a2b0>"
      ]
     },
     "execution_count": 4,
     "metadata": {},
     "output_type": "execute_result"
    }
   ],
   "source": [
    "spark_session"
   ]
  },
  {
   "cell_type": "code",
   "execution_count": 25,
   "id": "a64e6590-9a1c-4abd-a2e0-2af2ec84a7a4",
   "metadata": {},
   "outputs": [],
   "source": [
    "df = spark_session.read.csv(\"./data/pii_data.csv\", header=True, inferSchema=True)"
   ]
  },
  {
   "cell_type": "code",
   "execution_count": 26,
   "id": "a6377792-1eed-46d2-a95f-99c7a78bf668",
   "metadata": {
    "scrolled": true
   },
   "outputs": [
    {
     "name": "stdout",
     "output_type": "stream",
     "text": [
      "+-----------------+----+------+--------------------+--------------------+------+\n",
      "|             Name| Age|   Sex|             Address|             Contact|Salary|\n",
      "+-----------------+----+------+--------------------+--------------------+------+\n",
      "|         John Doe|  30|  Male|   123 Main St, City|    john@example.com| 50000|\n",
      "|       Jane Smith|  25|Female|    456 Elm St, Town|    jane@example.com| 45000|\n",
      "|   Robert Johnson|  35|  Male| 789 Oak St, Village|  robert@example.com| 60000|\n",
      "|      Emily Davis|  28|Female| 101 Pine St, Hamlet|   emily@example.com| 55000|\n",
      "|    Michael Brown|  40|  NULL|222 Cedar St, County| michael@example.com| 70000|\n",
      "|     Sarah Wilson|  33|Female|333 Maple St, Suburb|   sarah@example.com|  NULL|\n",
      "|     James Miller|  29|  Male|444 Birch St, Tow...|   james@example.com| 52000|\n",
      "|      Lisa Garcia|  27|  NULL|555 Oakwood St, Town|    lisa@example.com| 48000|\n",
      "|      William Lee|  38|  NULL|666 Pinecrest St,...| william@example.com|  NULL|\n",
      "|    Olivia Taylor|  31|Female|777 Elmwood St, C...|  olivia@example.com| 57000|\n",
      "|  Daniel Martinez|NULL|  Male|                NULL|  daniel@example.com|  NULL|\n",
      "|    Sophia Harris|  26|Female|999 Cedarwood St,...|  sophia@example.com| 47000|\n",
      "|Christopher Davis|  34|  Male|111 Oakside St, V...|   chris@example.com| 61000|\n",
      "|    Emma Anderson|  24|Female|222 Elmridge St, ...|    emma@example.com| 44000|\n",
      "|     Joseph Smith|  37|  Male|333 Birchwood St,...|  joseph@example.com| 63000|\n",
      "|      Mia Johnson|  30|Female|444 Maplewood St,...|     mia@example.com| 49000|\n",
      "|     David Wilson|  36|  Male|555 Pinehurst St,...|   david@example.com| 64000|\n",
      "|        Ava Brown|  28|Female|666 Oakridge St, ...|     ava@example.com| 46000|\n",
      "|  Benjamin Taylor|  39|  Male|777 Cedarhurst St...|benjamin@example.com| 65000|\n",
      "|    Charlotte Lee|  29|Female|888 Elmridge St, ...|charlotte@example...| 50000|\n",
      "+-----------------+----+------+--------------------+--------------------+------+\n",
      "\n"
     ]
    }
   ],
   "source": [
    "df.show()"
   ]
  },
  {
   "cell_type": "code",
   "execution_count": 27,
   "id": "fe88fdf8-276a-4cfa-9663-694569f1cb08",
   "metadata": {},
   "outputs": [
    {
     "name": "stdout",
     "output_type": "stream",
     "text": [
      "root\n",
      " |-- Name: string (nullable = true)\n",
      " |-- Age: integer (nullable = true)\n",
      " |-- Sex: string (nullable = true)\n",
      " |-- Address: string (nullable = true)\n",
      " |-- Contact: string (nullable = true)\n",
      " |-- Salary: integer (nullable = true)\n",
      "\n"
     ]
    }
   ],
   "source": [
    "df.printSchema()"
   ]
  },
  {
   "cell_type": "markdown",
   "id": "f3b937e3-0f2a-4521-b161-96c1daf4a357",
   "metadata": {},
   "source": [
    "### Dropping columns"
   ]
  },
  {
   "cell_type": "code",
   "execution_count": 28,
   "id": "e6f9ed6c-089b-4e87-8f71-7e58d2517a65",
   "metadata": {},
   "outputs": [
    {
     "name": "stdout",
     "output_type": "stream",
     "text": [
      "+-----------------+------+--------------------+--------------------+------+\n",
      "|             Name|   Sex|             Address|             Contact|Salary|\n",
      "+-----------------+------+--------------------+--------------------+------+\n",
      "|         John Doe|  Male|   123 Main St, City|    john@example.com| 50000|\n",
      "|       Jane Smith|Female|    456 Elm St, Town|    jane@example.com| 45000|\n",
      "|   Robert Johnson|  Male| 789 Oak St, Village|  robert@example.com| 60000|\n",
      "|      Emily Davis|Female| 101 Pine St, Hamlet|   emily@example.com| 55000|\n",
      "|    Michael Brown|  NULL|222 Cedar St, County| michael@example.com| 70000|\n",
      "|     Sarah Wilson|Female|333 Maple St, Suburb|   sarah@example.com|  NULL|\n",
      "|     James Miller|  Male|444 Birch St, Tow...|   james@example.com| 52000|\n",
      "|      Lisa Garcia|  NULL|555 Oakwood St, Town|    lisa@example.com| 48000|\n",
      "|      William Lee|  NULL|666 Pinecrest St,...| william@example.com|  NULL|\n",
      "|    Olivia Taylor|Female|777 Elmwood St, C...|  olivia@example.com| 57000|\n",
      "|  Daniel Martinez|  Male|                NULL|  daniel@example.com|  NULL|\n",
      "|    Sophia Harris|Female|999 Cedarwood St,...|  sophia@example.com| 47000|\n",
      "|Christopher Davis|  Male|111 Oakside St, V...|   chris@example.com| 61000|\n",
      "|    Emma Anderson|Female|222 Elmridge St, ...|    emma@example.com| 44000|\n",
      "|     Joseph Smith|  Male|333 Birchwood St,...|  joseph@example.com| 63000|\n",
      "|      Mia Johnson|Female|444 Maplewood St,...|     mia@example.com| 49000|\n",
      "|     David Wilson|  Male|555 Pinehurst St,...|   david@example.com| 64000|\n",
      "|        Ava Brown|Female|666 Oakridge St, ...|     ava@example.com| 46000|\n",
      "|  Benjamin Taylor|  Male|777 Cedarhurst St...|benjamin@example.com| 65000|\n",
      "|    Charlotte Lee|Female|888 Elmridge St, ...|charlotte@example...| 50000|\n",
      "+-----------------+------+--------------------+--------------------+------+\n",
      "\n"
     ]
    }
   ],
   "source": [
    "df.drop(\"Age\").show()"
   ]
  },
  {
   "cell_type": "code",
   "execution_count": 29,
   "id": "29b68c01-8368-4276-83d2-d53055c14e0d",
   "metadata": {},
   "outputs": [
    {
     "name": "stdout",
     "output_type": "stream",
     "text": [
      "+-----------------+------+--------------------+------+\n",
      "|             Name|   Sex|             Contact|Salary|\n",
      "+-----------------+------+--------------------+------+\n",
      "|         John Doe|  Male|    john@example.com| 50000|\n",
      "|       Jane Smith|Female|    jane@example.com| 45000|\n",
      "|   Robert Johnson|  Male|  robert@example.com| 60000|\n",
      "|      Emily Davis|Female|   emily@example.com| 55000|\n",
      "|    Michael Brown|  NULL| michael@example.com| 70000|\n",
      "|     Sarah Wilson|Female|   sarah@example.com|  NULL|\n",
      "|     James Miller|  Male|   james@example.com| 52000|\n",
      "|      Lisa Garcia|  NULL|    lisa@example.com| 48000|\n",
      "|      William Lee|  NULL| william@example.com|  NULL|\n",
      "|    Olivia Taylor|Female|  olivia@example.com| 57000|\n",
      "|  Daniel Martinez|  Male|  daniel@example.com|  NULL|\n",
      "|    Sophia Harris|Female|  sophia@example.com| 47000|\n",
      "|Christopher Davis|  Male|   chris@example.com| 61000|\n",
      "|    Emma Anderson|Female|    emma@example.com| 44000|\n",
      "|     Joseph Smith|  Male|  joseph@example.com| 63000|\n",
      "|      Mia Johnson|Female|     mia@example.com| 49000|\n",
      "|     David Wilson|  Male|   david@example.com| 64000|\n",
      "|        Ava Brown|Female|     ava@example.com| 46000|\n",
      "|  Benjamin Taylor|  Male|benjamin@example.com| 65000|\n",
      "|    Charlotte Lee|Female|charlotte@example...| 50000|\n",
      "+-----------------+------+--------------------+------+\n",
      "\n"
     ]
    }
   ],
   "source": [
    "df.drop(*[\"Age\", \"Address\"]).show()"
   ]
  },
  {
   "cell_type": "code",
   "execution_count": 30,
   "id": "4e7c115f-4ccb-436b-acaa-23a90e9c35e2",
   "metadata": {},
   "outputs": [
    {
     "name": "stdout",
     "output_type": "stream",
     "text": [
      "+--------------+---+------+--------------------+-------------------+------+\n",
      "|          Name|Age|   Sex|             Address|            Contact|Salary|\n",
      "+--------------+---+------+--------------------+-------------------+------+\n",
      "|      John Doe| 30|  Male|   123 Main St, City|   john@example.com| 50000|\n",
      "|    Jane Smith| 25|Female|    456 Elm St, Town|   jane@example.com| 45000|\n",
      "|Robert Johnson| 35|  Male| 789 Oak St, Village| robert@example.com| 60000|\n",
      "|   Emily Davis| 28|Female| 101 Pine St, Hamlet|  emily@example.com| 55000|\n",
      "| Michael Brown| 40|  NULL|222 Cedar St, County|michael@example.com| 70000|\n",
      "+--------------+---+------+--------------------+-------------------+------+\n",
      "only showing top 5 rows\n",
      "\n"
     ]
    }
   ],
   "source": [
    "df.show(5)"
   ]
  },
  {
   "cell_type": "markdown",
   "id": "430b40c0-e122-41de-ac5f-00801922cc86",
   "metadata": {},
   "source": [
    "### Dropping rows"
   ]
  },
  {
   "cell_type": "code",
   "execution_count": 31,
   "id": "e6dc8fba-c2ad-42d2-a049-4e5e0a99921a",
   "metadata": {},
   "outputs": [
    {
     "name": "stdout",
     "output_type": "stream",
     "text": [
      "+--------------+---+------+--------------------+------------------+------+\n",
      "|          Name|Age|   Sex|             Address|           Contact|Salary|\n",
      "+--------------+---+------+--------------------+------------------+------+\n",
      "|      John Doe| 30|  Male|   123 Main St, City|  john@example.com| 50000|\n",
      "|    Jane Smith| 25|Female|    456 Elm St, Town|  jane@example.com| 45000|\n",
      "|Robert Johnson| 35|  Male| 789 Oak St, Village|robert@example.com| 60000|\n",
      "|   Emily Davis| 28|Female| 101 Pine St, Hamlet| emily@example.com| 55000|\n",
      "|  James Miller| 29|  Male|444 Birch St, Tow...| james@example.com| 52000|\n",
      "+--------------+---+------+--------------------+------------------+------+\n",
      "only showing top 5 rows\n",
      "\n"
     ]
    }
   ],
   "source": [
    "# Drow row if there is a NULL value in any column\n",
    "df.na.drop().show(5) # In the above table row 5 has been deleted, where Sex has a NULL value"
   ]
  },
  {
   "cell_type": "code",
   "execution_count": 32,
   "id": "bdf1d4d9-f409-4fa4-9e30-bd5374c5584b",
   "metadata": {},
   "outputs": [
    {
     "name": "stdout",
     "output_type": "stream",
     "text": [
      "+--------------+---+------+--------------------+------------------+------+\n",
      "|          Name|Age|   Sex|             Address|           Contact|Salary|\n",
      "+--------------+---+------+--------------------+------------------+------+\n",
      "|      John Doe| 30|  Male|   123 Main St, City|  john@example.com| 50000|\n",
      "|    Jane Smith| 25|Female|    456 Elm St, Town|  jane@example.com| 45000|\n",
      "|Robert Johnson| 35|  Male| 789 Oak St, Village|robert@example.com| 60000|\n",
      "|   Emily Davis| 28|Female| 101 Pine St, Hamlet| emily@example.com| 55000|\n",
      "|  James Miller| 29|  Male|444 Birch St, Tow...| james@example.com| 52000|\n",
      "+--------------+---+------+--------------------+------------------+------+\n",
      "only showing top 5 rows\n",
      "\n"
     ]
    }
   ],
   "source": [
    "# how = any, default is any\n",
    "df.na.drop(how=\"any\").show(5) "
   ]
  },
  {
   "cell_type": "code",
   "execution_count": 38,
   "id": "42a3f448-a08d-45d1-be91-9094fd9aa94d",
   "metadata": {},
   "outputs": [
    {
     "name": "stdout",
     "output_type": "stream",
     "text": [
      "+---------------+----+------+--------------------+-------------------+------+\n",
      "|           Name| Age|   Sex|             Address|            Contact|Salary|\n",
      "+---------------+----+------+--------------------+-------------------+------+\n",
      "|       John Doe|  30|  Male|   123 Main St, City|   john@example.com| 50000|\n",
      "|     Jane Smith|  25|Female|    456 Elm St, Town|   jane@example.com| 45000|\n",
      "| Robert Johnson|  35|  Male| 789 Oak St, Village| robert@example.com| 60000|\n",
      "|    Emily Davis|  28|Female| 101 Pine St, Hamlet|  emily@example.com| 55000|\n",
      "|  Michael Brown|  40|  NULL|222 Cedar St, County|michael@example.com| 70000|\n",
      "|   Sarah Wilson|  33|Female|333 Maple St, Suburb|  sarah@example.com|  NULL|\n",
      "|   James Miller|  29|  Male|444 Birch St, Tow...|  james@example.com| 52000|\n",
      "|    Lisa Garcia|  27|  NULL|555 Oakwood St, Town|   lisa@example.com| 48000|\n",
      "|    William Lee|  38|  NULL|666 Pinecrest St,...|william@example.com|  NULL|\n",
      "|  Olivia Taylor|  31|Female|777 Elmwood St, C...| olivia@example.com| 57000|\n",
      "|Daniel Martinez|NULL|  Male|                NULL| daniel@example.com|  NULL|\n",
      "+---------------+----+------+--------------------+-------------------+------+\n",
      "only showing top 11 rows\n",
      "\n"
     ]
    }
   ],
   "source": [
    "# how = all\n",
    "# Here, we don't have NULL value in all columns so, row 5 is not dropped\n",
    "df.na.drop(how=\"all\").show(11) "
   ]
  },
  {
   "cell_type": "code",
   "execution_count": 39,
   "id": "bbb7fbb1-184f-4fc3-a94c-da7aa0f1bc62",
   "metadata": {},
   "outputs": [
    {
     "name": "stdout",
     "output_type": "stream",
     "text": [
      "+--------------+---+------+--------------------+-------------------+------+\n",
      "|          Name|Age|   Sex|             Address|            Contact|Salary|\n",
      "+--------------+---+------+--------------------+-------------------+------+\n",
      "|      John Doe| 30|  Male|   123 Main St, City|   john@example.com| 50000|\n",
      "|    Jane Smith| 25|Female|    456 Elm St, Town|   jane@example.com| 45000|\n",
      "|Robert Johnson| 35|  Male| 789 Oak St, Village| robert@example.com| 60000|\n",
      "|   Emily Davis| 28|Female| 101 Pine St, Hamlet|  emily@example.com| 55000|\n",
      "| Michael Brown| 40|  NULL|222 Cedar St, County|michael@example.com| 70000|\n",
      "|  Sarah Wilson| 33|Female|333 Maple St, Suburb|  sarah@example.com|  NULL|\n",
      "|  James Miller| 29|  Male|444 Birch St, Tow...|  james@example.com| 52000|\n",
      "|   Lisa Garcia| 27|  NULL|555 Oakwood St, Town|   lisa@example.com| 48000|\n",
      "|   William Lee| 38|  NULL|666 Pinecrest St,...|william@example.com|  NULL|\n",
      "| Olivia Taylor| 31|Female|777 Elmwood St, C...| olivia@example.com| 57000|\n",
      "| Sophia Harris| 26|Female|999 Cedarwood St,...| sophia@example.com| 47000|\n",
      "+--------------+---+------+--------------------+-------------------+------+\n",
      "only showing top 11 rows\n",
      "\n"
     ]
    }
   ],
   "source": [
    "# thres = 4\n",
    "# It means at least 4 columns should be non-NULL\n",
    "df.na.drop(how=\"all\", thresh=4).show(11) # 11th row has been deleted because it has only 3 non-NULL columns"
   ]
  },
  {
   "cell_type": "code",
   "execution_count": 44,
   "id": "59a91979-4bce-4d2e-b812-70482ecb8e8b",
   "metadata": {},
   "outputs": [
    {
     "name": "stdout",
     "output_type": "stream",
     "text": [
      "+-----------------+----+------+--------------------+------------------+------+\n",
      "|             Name| Age|   Sex|             Address|           Contact|Salary|\n",
      "+-----------------+----+------+--------------------+------------------+------+\n",
      "|         John Doe|  30|  Male|   123 Main St, City|  john@example.com| 50000|\n",
      "|       Jane Smith|  25|Female|    456 Elm St, Town|  jane@example.com| 45000|\n",
      "|   Robert Johnson|  35|  Male| 789 Oak St, Village|robert@example.com| 60000|\n",
      "|      Emily Davis|  28|Female| 101 Pine St, Hamlet| emily@example.com| 55000|\n",
      "|     Sarah Wilson|  33|Female|333 Maple St, Suburb| sarah@example.com|  NULL|\n",
      "|     James Miller|  29|  Male|444 Birch St, Tow...| james@example.com| 52000|\n",
      "|    Olivia Taylor|  31|Female|777 Elmwood St, C...|olivia@example.com| 57000|\n",
      "|  Daniel Martinez|NULL|  Male|                NULL|daniel@example.com|  NULL|\n",
      "|    Sophia Harris|  26|Female|999 Cedarwood St,...|sophia@example.com| 47000|\n",
      "|Christopher Davis|  34|  Male|111 Oakside St, V...| chris@example.com| 61000|\n",
      "|    Emma Anderson|  24|Female|222 Elmridge St, ...|  emma@example.com| 44000|\n",
      "+-----------------+----+------+--------------------+------------------+------+\n",
      "only showing top 11 rows\n",
      "\n"
     ]
    }
   ],
   "source": [
    "# Subset, specify particular columns to delete\n",
    "df.na.drop(how=\"all\", subset=[\"Sex\"]).show(11) # drops all the rows having Sex == NULL"
   ]
  },
  {
   "cell_type": "markdown",
   "id": "221ae0a1-5bdd-4aa9-998d-7b8469168e81",
   "metadata": {},
   "source": [
    "### Filling the missing values"
   ]
  },
  {
   "cell_type": "code",
   "execution_count": 45,
   "id": "cbcf307a-93c5-497b-9f3b-295371b90cf2",
   "metadata": {},
   "outputs": [
    {
     "name": "stdout",
     "output_type": "stream",
     "text": [
      "+--------------+---+------+--------------------+-------------------+------+\n",
      "|          Name|Age|   Sex|             Address|            Contact|Salary|\n",
      "+--------------+---+------+--------------------+-------------------+------+\n",
      "|      John Doe| 30|  Male|   123 Main St, City|   john@example.com| 50000|\n",
      "|    Jane Smith| 25|Female|    456 Elm St, Town|   jane@example.com| 45000|\n",
      "|Robert Johnson| 35|  Male| 789 Oak St, Village| robert@example.com| 60000|\n",
      "|   Emily Davis| 28|Female| 101 Pine St, Hamlet|  emily@example.com| 55000|\n",
      "| Michael Brown| 40|  NULL|222 Cedar St, County|michael@example.com| 70000|\n",
      "|  Sarah Wilson| 33|Female|333 Maple St, Suburb|  sarah@example.com|    -1|\n",
      "|  James Miller| 29|  Male|444 Birch St, Tow...|  james@example.com| 52000|\n",
      "|   Lisa Garcia| 27|  NULL|555 Oakwood St, Town|   lisa@example.com| 48000|\n",
      "|   William Lee| 38|  NULL|666 Pinecrest St,...|william@example.com|    -1|\n",
      "| Olivia Taylor| 31|Female|777 Elmwood St, C...| olivia@example.com| 57000|\n",
      "+--------------+---+------+--------------------+-------------------+------+\n",
      "only showing top 10 rows\n",
      "\n"
     ]
    }
   ],
   "source": [
    "# Fill the missing values in the entire dataset\n",
    "df.na.fill(-1).show(10) # Here we filled missing NULL values by -1"
   ]
  },
  {
   "cell_type": "code",
   "execution_count": 54,
   "id": "731d617b-b64d-45a7-985f-e0a8c4c33ada",
   "metadata": {},
   "outputs": [
    {
     "name": "stdout",
     "output_type": "stream",
     "text": [
      "+--------------+---+------+--------------------+-------------------+------+\n",
      "|          Name|Age|   Sex|             Address|            Contact|Salary|\n",
      "+--------------+---+------+--------------------+-------------------+------+\n",
      "|      John Doe| 30|  Male|   123 Main St, City|   john@example.com| 50000|\n",
      "|    Jane Smith| 25|Female|    456 Elm St, Town|   jane@example.com| 45000|\n",
      "|Robert Johnson| 35|  Male| 789 Oak St, Village| robert@example.com| 60000|\n",
      "|   Emily Davis| 28|Female| 101 Pine St, Hamlet|  emily@example.com| 55000|\n",
      "| Michael Brown| 40|  NULL|222 Cedar St, County|michael@example.com| 70000|\n",
      "|  Sarah Wilson| 33|Female|333 Maple St, Suburb|  sarah@example.com|    -1|\n",
      "|  James Miller| 29|  Male|444 Birch St, Tow...|  james@example.com| 52000|\n",
      "|   Lisa Garcia| 27|  NULL|555 Oakwood St, Town|   lisa@example.com| 48000|\n",
      "|   William Lee| 38|  NULL|666 Pinecrest St,...|william@example.com|    -1|\n",
      "| Olivia Taylor| 31|Female|777 Elmwood St, C...| olivia@example.com| 57000|\n",
      "+--------------+---+------+--------------------+-------------------+------+\n",
      "only showing top 10 rows\n",
      "\n"
     ]
    }
   ],
   "source": [
    "# Specify the column names if you want to fill missing values only in those columns\n",
    "df.na.fill(-1, subset=[\"Sex\", \"Salary\"]).show(10) #If both subset sex and salary has NULL value, only then fill missing value"
   ]
  },
  {
   "cell_type": "markdown",
   "id": "9245f9c4-dbf6-4a0a-bc68-832df671dd3f",
   "metadata": {},
   "source": [
    "### Handling missing values by Mean, Median and Mode\n",
    "    - Mean"
   ]
  },
  {
   "cell_type": "code",
   "execution_count": 57,
   "id": "19072c97-18d2-4827-8265-653c21f0cd1b",
   "metadata": {},
   "outputs": [],
   "source": [
    "# Method 1: let's use Imputer\n",
    "from pyspark.ml.feature import Imputer\n",
    "\n",
    "imputer = Imputer(\n",
    "    inputCols = [\"Age\", \"Salary\"],\n",
    "    outputCols = [\"{}_final\".format(col) for col in [\"Age\", \"Salary\"]]\n",
    ").setStrategy(\"mean\")"
   ]
  },
  {
   "cell_type": "code",
   "execution_count": 61,
   "id": "b378f3aa-e904-404f-9f9e-601dbcc733ed",
   "metadata": {},
   "outputs": [],
   "source": [
    "# Add transformation to desired columns\n",
    "imputer_learned = imputer.fit(df)"
   ]
  },
  {
   "cell_type": "code",
   "execution_count": 62,
   "id": "47a98d81-d9e0-4edc-be38-69b175f0adaf",
   "metadata": {},
   "outputs": [
    {
     "name": "stdout",
     "output_type": "stream",
     "text": [
      "+-----------------+----+------+--------------------+--------------------+------+---------+------------+\n",
      "|             Name| Age|   Sex|             Address|             Contact|Salary|Age_final|Salary_final|\n",
      "+-----------------+----+------+--------------------+--------------------+------+---------+------------+\n",
      "|         John Doe|  30|  Male|   123 Main St, City|    john@example.com| 50000|       30|       50000|\n",
      "|       Jane Smith|  25|Female|    456 Elm St, Town|    jane@example.com| 45000|       25|       45000|\n",
      "|   Robert Johnson|  35|  Male| 789 Oak St, Village|  robert@example.com| 60000|       35|       60000|\n",
      "|      Emily Davis|  28|Female| 101 Pine St, Hamlet|   emily@example.com| 55000|       28|       55000|\n",
      "|    Michael Brown|  40|  NULL|222 Cedar St, County| michael@example.com| 70000|       40|       70000|\n",
      "|     Sarah Wilson|  33|Female|333 Maple St, Suburb|   sarah@example.com|  NULL|       33|       54470|\n",
      "|     James Miller|  29|  Male|444 Birch St, Tow...|   james@example.com| 52000|       29|       52000|\n",
      "|      Lisa Garcia|  27|  NULL|555 Oakwood St, Town|    lisa@example.com| 48000|       27|       48000|\n",
      "|      William Lee|  38|  NULL|666 Pinecrest St,...| william@example.com|  NULL|       38|       54470|\n",
      "|    Olivia Taylor|  31|Female|777 Elmwood St, C...|  olivia@example.com| 57000|       31|       57000|\n",
      "|  Daniel Martinez|NULL|  Male|                NULL|  daniel@example.com|  NULL|       31|       54470|\n",
      "|    Sophia Harris|  26|Female|999 Cedarwood St,...|  sophia@example.com| 47000|       26|       47000|\n",
      "|Christopher Davis|  34|  Male|111 Oakside St, V...|   chris@example.com| 61000|       34|       61000|\n",
      "|    Emma Anderson|  24|Female|222 Elmridge St, ...|    emma@example.com| 44000|       24|       44000|\n",
      "|     Joseph Smith|  37|  Male|333 Birchwood St,...|  joseph@example.com| 63000|       37|       63000|\n",
      "|      Mia Johnson|  30|Female|444 Maplewood St,...|     mia@example.com| 49000|       30|       49000|\n",
      "|     David Wilson|  36|  Male|555 Pinehurst St,...|   david@example.com| 64000|       36|       64000|\n",
      "|        Ava Brown|  28|Female|666 Oakridge St, ...|     ava@example.com| 46000|       28|       46000|\n",
      "|  Benjamin Taylor|  39|  Male|777 Cedarhurst St...|benjamin@example.com| 65000|       39|       65000|\n",
      "|    Charlotte Lee|  29|Female|888 Elmridge St, ...|charlotte@example...| 50000|       29|       50000|\n",
      "+-----------------+----+------+--------------------+--------------------+------+---------+------------+\n",
      "\n"
     ]
    }
   ],
   "source": [
    "imputer_learned.transform(df).show()"
   ]
  },
  {
   "cell_type": "markdown",
   "id": "3d87f41e-9bee-4108-8b5d-26ac5cc43df3",
   "metadata": {},
   "source": [
    "- Median"
   ]
  },
  {
   "cell_type": "code",
   "execution_count": 63,
   "id": "57845b8b-6ad1-4aca-9293-9726db666d81",
   "metadata": {},
   "outputs": [
    {
     "name": "stdout",
     "output_type": "stream",
     "text": [
      "+-----------------+----+------+--------------------+--------------------+------+---------+------------+\n",
      "|             Name| Age|   Sex|             Address|             Contact|Salary|Age_final|Salary_final|\n",
      "+-----------------+----+------+--------------------+--------------------+------+---------+------------+\n",
      "|         John Doe|  30|  Male|   123 Main St, City|    john@example.com| 50000|       30|       50000|\n",
      "|       Jane Smith|  25|Female|    456 Elm St, Town|    jane@example.com| 45000|       25|       45000|\n",
      "|   Robert Johnson|  35|  Male| 789 Oak St, Village|  robert@example.com| 60000|       35|       60000|\n",
      "|      Emily Davis|  28|Female| 101 Pine St, Hamlet|   emily@example.com| 55000|       28|       55000|\n",
      "|    Michael Brown|  40|  NULL|222 Cedar St, County| michael@example.com| 70000|       40|       70000|\n",
      "|     Sarah Wilson|  33|Female|333 Maple St, Suburb|   sarah@example.com|  NULL|       33|       52000|\n",
      "|     James Miller|  29|  Male|444 Birch St, Tow...|   james@example.com| 52000|       29|       52000|\n",
      "|      Lisa Garcia|  27|  NULL|555 Oakwood St, Town|    lisa@example.com| 48000|       27|       48000|\n",
      "|      William Lee|  38|  NULL|666 Pinecrest St,...| william@example.com|  NULL|       38|       52000|\n",
      "|    Olivia Taylor|  31|Female|777 Elmwood St, C...|  olivia@example.com| 57000|       31|       57000|\n",
      "|  Daniel Martinez|NULL|  Male|                NULL|  daniel@example.com|  NULL|       30|       52000|\n",
      "|    Sophia Harris|  26|Female|999 Cedarwood St,...|  sophia@example.com| 47000|       26|       47000|\n",
      "|Christopher Davis|  34|  Male|111 Oakside St, V...|   chris@example.com| 61000|       34|       61000|\n",
      "|    Emma Anderson|  24|Female|222 Elmridge St, ...|    emma@example.com| 44000|       24|       44000|\n",
      "|     Joseph Smith|  37|  Male|333 Birchwood St,...|  joseph@example.com| 63000|       37|       63000|\n",
      "|      Mia Johnson|  30|Female|444 Maplewood St,...|     mia@example.com| 49000|       30|       49000|\n",
      "|     David Wilson|  36|  Male|555 Pinehurst St,...|   david@example.com| 64000|       36|       64000|\n",
      "|        Ava Brown|  28|Female|666 Oakridge St, ...|     ava@example.com| 46000|       28|       46000|\n",
      "|  Benjamin Taylor|  39|  Male|777 Cedarhurst St...|benjamin@example.com| 65000|       39|       65000|\n",
      "|    Charlotte Lee|  29|Female|888 Elmridge St, ...|charlotte@example...| 50000|       29|       50000|\n",
      "+-----------------+----+------+--------------------+--------------------+------+---------+------------+\n",
      "\n"
     ]
    }
   ],
   "source": [
    "from pyspark.ml.feature import Imputer\n",
    "\n",
    "imputer = Imputer(\n",
    "    inputCols = [\"Age\", \"Salary\"],\n",
    "    outputCols = [\"{}_final\".format(col) for col in [\"Age\", \"Salary\"]]\n",
    ").setStrategy(\"median\")\n",
    "\n",
    "# Add transformation to desired columns\n",
    "imputer_learned = imputer.fit(df)\n",
    "\n",
    "imputer_learned.transform(df).show()"
   ]
  },
  {
   "cell_type": "markdown",
   "id": "475711ef-2df0-40a0-98f7-c9a77cfd1f71",
   "metadata": {},
   "source": [
    "- Mode"
   ]
  },
  {
   "cell_type": "code",
   "execution_count": 64,
   "id": "bd4cbaaf-9d35-4c0e-a994-54815908ac29",
   "metadata": {},
   "outputs": [
    {
     "name": "stdout",
     "output_type": "stream",
     "text": [
      "+-----------------+----+------+--------------------+--------------------+------+---------+------------+\n",
      "|             Name| Age|   Sex|             Address|             Contact|Salary|Age_final|Salary_final|\n",
      "+-----------------+----+------+--------------------+--------------------+------+---------+------------+\n",
      "|         John Doe|  30|  Male|   123 Main St, City|    john@example.com| 50000|       30|       50000|\n",
      "|       Jane Smith|  25|Female|    456 Elm St, Town|    jane@example.com| 45000|       25|       45000|\n",
      "|   Robert Johnson|  35|  Male| 789 Oak St, Village|  robert@example.com| 60000|       35|       60000|\n",
      "|      Emily Davis|  28|Female| 101 Pine St, Hamlet|   emily@example.com| 55000|       28|       55000|\n",
      "|    Michael Brown|  40|  NULL|222 Cedar St, County| michael@example.com| 70000|       40|       70000|\n",
      "|     Sarah Wilson|  33|Female|333 Maple St, Suburb|   sarah@example.com|  NULL|       33|       50000|\n",
      "|     James Miller|  29|  Male|444 Birch St, Tow...|   james@example.com| 52000|       29|       52000|\n",
      "|      Lisa Garcia|  27|  NULL|555 Oakwood St, Town|    lisa@example.com| 48000|       27|       48000|\n",
      "|      William Lee|  38|  NULL|666 Pinecrest St,...| william@example.com|  NULL|       38|       50000|\n",
      "|    Olivia Taylor|  31|Female|777 Elmwood St, C...|  olivia@example.com| 57000|       31|       57000|\n",
      "|  Daniel Martinez|NULL|  Male|                NULL|  daniel@example.com|  NULL|       28|       50000|\n",
      "|    Sophia Harris|  26|Female|999 Cedarwood St,...|  sophia@example.com| 47000|       26|       47000|\n",
      "|Christopher Davis|  34|  Male|111 Oakside St, V...|   chris@example.com| 61000|       34|       61000|\n",
      "|    Emma Anderson|  24|Female|222 Elmridge St, ...|    emma@example.com| 44000|       24|       44000|\n",
      "|     Joseph Smith|  37|  Male|333 Birchwood St,...|  joseph@example.com| 63000|       37|       63000|\n",
      "|      Mia Johnson|  30|Female|444 Maplewood St,...|     mia@example.com| 49000|       30|       49000|\n",
      "|     David Wilson|  36|  Male|555 Pinehurst St,...|   david@example.com| 64000|       36|       64000|\n",
      "|        Ava Brown|  28|Female|666 Oakridge St, ...|     ava@example.com| 46000|       28|       46000|\n",
      "|  Benjamin Taylor|  39|  Male|777 Cedarhurst St...|benjamin@example.com| 65000|       39|       65000|\n",
      "|    Charlotte Lee|  29|Female|888 Elmridge St, ...|charlotte@example...| 50000|       29|       50000|\n",
      "+-----------------+----+------+--------------------+--------------------+------+---------+------------+\n",
      "\n"
     ]
    }
   ],
   "source": [
    "from pyspark.ml.feature import Imputer\n",
    "\n",
    "imputer = Imputer(\n",
    "    inputCols = [\"Age\", \"Salary\"],\n",
    "    outputCols = [\"{}_final\".format(col) for col in [\"Age\", \"Salary\"]]\n",
    ").setStrategy(\"mode\")\n",
    "\n",
    "# Add transformation to desired columns\n",
    "imputer_learned = imputer.fit(df)\n",
    "\n",
    "imputer_learned.transform(df).show()"
   ]
  },
  {
   "cell_type": "code",
   "execution_count": null,
   "id": "8d74e5cd-3024-4e93-b4aa-b6a76c6719d2",
   "metadata": {},
   "outputs": [],
   "source": []
  }
 ],
 "metadata": {
  "kernelspec": {
   "display_name": "Python 3 (ipykernel)",
   "language": "python",
   "name": "python3"
  },
  "language_info": {
   "codemirror_mode": {
    "name": "ipython",
    "version": 3
   },
   "file_extension": ".py",
   "mimetype": "text/x-python",
   "name": "python",
   "nbconvert_exporter": "python",
   "pygments_lexer": "ipython3",
   "version": "3.8.18"
  }
 },
 "nbformat": 4,
 "nbformat_minor": 5
}
