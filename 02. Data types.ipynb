{
 "cells": [
  {
   "cell_type": "code",
   "execution_count": 2,
   "id": "abc25a2c-97ac-4236-9d91-b07cba9a3aaf",
   "metadata": {},
   "outputs": [],
   "source": [
    "from pyspark.sql import SparkSession"
   ]
  },
  {
   "cell_type": "code",
   "execution_count": 3,
   "id": "8f9816e6-34a8-4cae-87be-f3d5a6cb5f5b",
   "metadata": {},
   "outputs": [
    {
     "name": "stderr",
     "output_type": "stream",
     "text": [
      "Setting default log level to \"WARN\".\n",
      "To adjust logging level use sc.setLogLevel(newLevel). For SparkR, use setLogLevel(newLevel).\n",
      "23/10/08 10:48:41 WARN NativeCodeLoader: Unable to load native-hadoop library for your platform... using builtin-java classes where applicable\n",
      "23/10/08 10:48:41 WARN Utils: Service 'SparkUI' could not bind on port 4040. Attempting port 4041.\n",
      "23/10/08 10:48:41 WARN Utils: Service 'SparkUI' could not bind on port 4041. Attempting port 4042.\n"
     ]
    }
   ],
   "source": [
    "spark_session = SparkSession.builder.appName(\"spark_df\").getOrCreate()"
   ]
  },
  {
   "cell_type": "code",
   "execution_count": 4,
   "id": "b0759d49-fc31-495b-a238-0ec7083f4dc7",
   "metadata": {},
   "outputs": [
    {
     "data": {
      "text/html": [
       "\n",
       "            <div>\n",
       "                <p><b>SparkSession - in-memory</b></p>\n",
       "                \n",
       "        <div>\n",
       "            <p><b>SparkContext</b></p>\n",
       "\n",
       "            <p><a href=\"http://npn-ideapad-2023:4042\">Spark UI</a></p>\n",
       "\n",
       "            <dl>\n",
       "              <dt>Version</dt>\n",
       "                <dd><code>v3.5.0</code></dd>\n",
       "              <dt>Master</dt>\n",
       "                <dd><code>local[*]</code></dd>\n",
       "              <dt>AppName</dt>\n",
       "                <dd><code>spark_df</code></dd>\n",
       "            </dl>\n",
       "        </div>\n",
       "        \n",
       "            </div>\n",
       "        "
      ],
      "text/plain": [
       "<pyspark.sql.session.SparkSession at 0x7fd1d0753b20>"
      ]
     },
     "execution_count": 4,
     "metadata": {},
     "output_type": "execute_result"
    }
   ],
   "source": [
    "spark_session"
   ]
  },
  {
   "cell_type": "code",
   "execution_count": 5,
   "id": "16d740e0-d584-4519-a922-a5eb369a1efd",
   "metadata": {},
   "outputs": [],
   "source": [
    "# Read the dataset\n",
    "pii_df = spark_session.read.option(\"header\", \"true\").csv(\"./data/pii_sample_data.csv\")"
   ]
  },
  {
   "cell_type": "code",
   "execution_count": 6,
   "id": "07fce78e-0406-4817-8089-b9b5dc985dc6",
   "metadata": {},
   "outputs": [
    {
     "name": "stdout",
     "output_type": "stream",
     "text": [
      "+---------------+------+---+--------------------+--------------------+------------+\n",
      "|           Name|   Sex|Age|             Address|               Email|Phone Number|\n",
      "+---------------+------+---+--------------------+--------------------+------------+\n",
      "|       John Doe|  Male| 35| 123 Main St, City A|john.doe@example.com|123-456-7890|\n",
      "|     Jane Smith|Female| 28|  456 Elm St, City B|jane.smith@exampl...|987-654-3210|\n",
      "|      David Lee|  Male| 45|  789 Oak St, City C|david.lee@example...|555-123-4567|\n",
      "|     Mary Brown|Female| 22|321 Birch St, City D|mary.brown@exampl...|777-888-9999|\n",
      "|     James Wang|  Male| 32| 567 Pine St, City E|james.wang@exampl...|111-222-3333|\n",
      "|      Lisa Chen|Female| 40|654 Cedar St, City F|lisa.chen@example...|999-777-8888|\n",
      "|       Mark Kim|  Male| 27|890 Willow St, Ci...|mark.kim@example.com|333-444-5555|\n",
      "|      Sarah Liu|Female| 33|432 Redwood St, C...|sarah.liu@example...|666-777-8888|\n",
      "|Michael Johnson|  Male| 55|  765 Oak St, City I|michael.johnson@e...|123-987-6543|\n",
      "|   Emily Wilson|Female| 29|987 Birch St, City J|emily.wilson@exam...|888-999-7777|\n",
      "|    Zoe Johnson|Female| 34|567 Birch St, City T|zoe.johnson@examp...|555-666-7777|\n",
      "|   Ethan Wilson|  Male| 29|  876 Oak St, City U|ethan.wilson@exam...|777-666-5555|\n",
      "|      Mia Davis|Female| 42|  321 Elm St, City V|mia.davis@example...|222-333-4444|\n",
      "|    Samuel Chen|  Male| 44|432 Cedar St, City W|samuel.chen@examp...|666-444-3333|\n",
      "|     Ava Garcia|Female| 27| 765 Pine St, City X|ava.garcia@exampl...|888-777-6666|\n",
      "|Alexander Brown|  Male| 37|  987 Oak St, City Y|alexander.brown@e...|444-222-1111|\n",
      "|      Emma Wang|Female| 23|234 Birch St, City Z|emma.wang@example...|999-111-2222|\n",
      "|   Daniel Smith|  Male| 45|543 Cedar St, Cit...|daniel.smith@exam...|555-666-7777|\n",
      "|Olivia Martinez|Female| 31|789 Pine St, City BB|olivia.martinez@e...|222-111-4444|\n",
      "| Matthew Taylor|  Male| 26| 876 Elm St, City CC|matthew.taylor@ex...|777-333-6666|\n",
      "+---------------+------+---+--------------------+--------------------+------------+\n",
      "only showing top 20 rows\n",
      "\n"
     ]
    }
   ],
   "source": [
    "pii_df.show()"
   ]
  },
  {
   "cell_type": "code",
   "execution_count": 7,
   "id": "344906b5-c31f-470a-9828-05a4e034ec70",
   "metadata": {},
   "outputs": [
    {
     "data": {
      "text/plain": [
       "pyspark.sql.dataframe.DataFrame"
      ]
     },
     "execution_count": 7,
     "metadata": {},
     "output_type": "execute_result"
    }
   ],
   "source": [
    "type(pii_df)"
   ]
  },
  {
   "cell_type": "code",
   "execution_count": 8,
   "id": "85b53a4e-a475-4fd8-b9f2-93b8e1bfcf9d",
   "metadata": {},
   "outputs": [
    {
     "name": "stdout",
     "output_type": "stream",
     "text": [
      "root\n",
      " |-- Name: string (nullable = true)\n",
      " |-- Sex: string (nullable = true)\n",
      " |-- Age: string (nullable = true)\n",
      " |-- Address: string (nullable = true)\n",
      " |-- Email: string (nullable = true)\n",
      " |-- Phone Number: string (nullable = true)\n",
      "\n"
     ]
    }
   ],
   "source": [
    "# Get the datatype\n",
    "# By default, it will consider all the data as string\n",
    "# To fix it, we need to add one extra parameter while reading dataset\n",
    "# i.e inferSchema = True\n",
    "pii_df.printSchema()"
   ]
  },
  {
   "cell_type": "code",
   "execution_count": 9,
   "id": "05d98551-16ed-4f76-996c-15cf3cb64f29",
   "metadata": {},
   "outputs": [],
   "source": [
    "pii_df = spark_session.read.option(\"header\", \"true\").csv(\"./data/pii_sample_data.csv\", inferSchema=True)"
   ]
  },
  {
   "cell_type": "code",
   "execution_count": 10,
   "id": "babd6d66-3d62-4865-af44-3ca4d1dbbd7b",
   "metadata": {},
   "outputs": [
    {
     "name": "stdout",
     "output_type": "stream",
     "text": [
      "root\n",
      " |-- Name: string (nullable = true)\n",
      " |-- Sex: string (nullable = true)\n",
      " |-- Age: integer (nullable = true)\n",
      " |-- Address: string (nullable = true)\n",
      " |-- Email: string (nullable = true)\n",
      " |-- Phone Number: string (nullable = true)\n",
      "\n"
     ]
    }
   ],
   "source": [
    "pii_df.printSchema() # Now, Age age is imported as integer and rest as string"
   ]
  },
  {
   "cell_type": "code",
   "execution_count": 11,
   "id": "510db77e-17a2-423d-9f2f-7d7bccb1499f",
   "metadata": {},
   "outputs": [],
   "source": [
    "# Alternative method\n",
    "pii_df = spark_session.read.csv(\"./data/pii_sample_data.csv\", header=True, inferSchema=True)"
   ]
  },
  {
   "cell_type": "code",
   "execution_count": 12,
   "id": "a0542a66-42ac-4066-9ea3-34df694ebbe4",
   "metadata": {},
   "outputs": [
    {
     "name": "stdout",
     "output_type": "stream",
     "text": [
      "root\n",
      " |-- Name: string (nullable = true)\n",
      " |-- Sex: string (nullable = true)\n",
      " |-- Age: integer (nullable = true)\n",
      " |-- Address: string (nullable = true)\n",
      " |-- Email: string (nullable = true)\n",
      " |-- Phone Number: string (nullable = true)\n",
      "\n"
     ]
    }
   ],
   "source": [
    "pii_df.printSchema()"
   ]
  },
  {
   "cell_type": "markdown",
   "id": "655b200c-e338-438e-b025-75d75ca74be8",
   "metadata": {},
   "source": [
    "- Changing Data types"
   ]
  },
  {
   "cell_type": "code",
   "execution_count": 16,
   "id": "1220cf2b-4b10-476e-bafd-6d7df7f27fbf",
   "metadata": {},
   "outputs": [],
   "source": [
    "# Change the datatype of the \"Age\" column from integer to string\n",
    "from pyspark.sql.functions import col\n",
    "df_temp = pii_df.withColumn(\"Age\", col(\"Age\").cast(\"string\"))"
   ]
  },
  {
   "cell_type": "code",
   "execution_count": 17,
   "id": "1c12e01c-f128-4664-aa48-b011ad8767c0",
   "metadata": {},
   "outputs": [
    {
     "name": "stdout",
     "output_type": "stream",
     "text": [
      "root\n",
      " |-- Name: string (nullable = true)\n",
      " |-- Sex: string (nullable = true)\n",
      " |-- Age: string (nullable = true)\n",
      " |-- Address: string (nullable = true)\n",
      " |-- Email: string (nullable = true)\n",
      " |-- Phone Number: string (nullable = true)\n",
      "\n"
     ]
    }
   ],
   "source": [
    "df_temp.printSchema() # Now, datatype of age converted to string"
   ]
  },
  {
   "cell_type": "markdown",
   "id": "2213c8d5-6fca-4b2b-8779-296c368d792c",
   "metadata": {},
   "source": [
    "- Select rows"
   ]
  },
  {
   "cell_type": "code",
   "execution_count": 17,
   "id": "3effa20f-5e4e-4317-a523-e8d9c44477f5",
   "metadata": {},
   "outputs": [
    {
     "name": "stdout",
     "output_type": "stream",
     "text": [
      "+----------+------+---+--------------------+--------------------+------------+\n",
      "|      Name|   Sex|Age|             Address|               Email|Phone Number|\n",
      "+----------+------+---+--------------------+--------------------+------------+\n",
      "|  John Doe|  Male| 35| 123 Main St, City A|john.doe@example.com|123-456-7890|\n",
      "|Jane Smith|Female| 28|  456 Elm St, City B|jane.smith@exampl...|987-654-3210|\n",
      "| David Lee|  Male| 45|  789 Oak St, City C|david.lee@example...|555-123-4567|\n",
      "|Mary Brown|Female| 22|321 Birch St, City D|mary.brown@exampl...|777-888-9999|\n",
      "|James Wang|  Male| 32| 567 Pine St, City E|james.wang@exampl...|111-222-3333|\n",
      "+----------+------+---+--------------------+--------------------+------------+\n",
      "only showing top 5 rows\n",
      "\n"
     ]
    }
   ],
   "source": [
    "# pick n rows\n",
    "pii_df.show(5)"
   ]
  },
  {
   "cell_type": "code",
   "execution_count": 18,
   "id": "b9a803d1-c1b6-42eb-901f-87b7bddf6b58",
   "metadata": {},
   "outputs": [
    {
     "data": {
      "text/plain": [
       "[Row(Name='John Doe', Sex='Male', Age=35, Address='123 Main St, City A', Email='john.doe@example.com', Phone Number='123-456-7890'),\n",
       " Row(Name='Jane Smith', Sex='Female', Age=28, Address='456 Elm St, City B', Email='jane.smith@example.com', Phone Number='987-654-3210'),\n",
       " Row(Name='David Lee', Sex='Male', Age=45, Address='789 Oak St, City C', Email='david.lee@example.com', Phone Number='555-123-4567'),\n",
       " Row(Name='Mary Brown', Sex='Female', Age=22, Address='321 Birch St, City D', Email='mary.brown@example.com', Phone Number='777-888-9999'),\n",
       " Row(Name='James Wang', Sex='Male', Age=32, Address='567 Pine St, City E', Email='james.wang@example.com', Phone Number='111-222-3333')]"
      ]
     },
     "execution_count": 18,
     "metadata": {},
     "output_type": "execute_result"
    }
   ],
   "source": [
    "pii_df.head(5)"
   ]
  },
  {
   "cell_type": "markdown",
   "id": "c259a796-64a7-481e-bd0c-4fe71e58c256",
   "metadata": {},
   "source": [
    "### Select columns"
   ]
  },
  {
   "cell_type": "code",
   "execution_count": 21,
   "id": "ed410d8e-0842-4939-b8ee-c23d639f122f",
   "metadata": {},
   "outputs": [
    {
     "data": {
      "text/plain": [
       "DataFrame[Name: string]"
      ]
     },
     "execution_count": 21,
     "metadata": {},
     "output_type": "execute_result"
    }
   ],
   "source": [
    "# Select a column\n",
    "# return type is also dataframe\n",
    "name_df = pii_df.select(\"Name\")\n",
    "name_df"
   ]
  },
  {
   "cell_type": "code",
   "execution_count": 23,
   "id": "fc9a5352-3e2a-4421-b215-f72ca016a702",
   "metadata": {},
   "outputs": [
    {
     "name": "stdout",
     "output_type": "stream",
     "text": [
      "+----------+\n",
      "|      Name|\n",
      "+----------+\n",
      "|  John Doe|\n",
      "|Jane Smith|\n",
      "+----------+\n",
      "only showing top 2 rows\n",
      "\n"
     ]
    }
   ],
   "source": [
    "name_df.show(2)"
   ]
  },
  {
   "cell_type": "code",
   "execution_count": 34,
   "id": "e1708796-fa76-4793-af31-e802081d1b17",
   "metadata": {},
   "outputs": [
    {
     "data": {
      "text/plain": [
       "Column<'Name'>"
      ]
     },
     "execution_count": 34,
     "metadata": {},
     "output_type": "execute_result"
    }
   ],
   "source": [
    "# or\n",
    "pii_df[\"Name\"]"
   ]
  },
  {
   "cell_type": "code",
   "execution_count": 25,
   "id": "41e61b1e-7584-45b1-a581-86e6000ea615",
   "metadata": {},
   "outputs": [
    {
     "data": {
      "text/plain": [
       "DataFrame[Name: string, sex: string]"
      ]
     },
     "execution_count": 25,
     "metadata": {},
     "output_type": "execute_result"
    }
   ],
   "source": [
    "# Select n columns\n",
    "name_df = pii_df.select([\"Name\", \"sex\"])\n",
    "name_df"
   ]
  },
  {
   "cell_type": "code",
   "execution_count": 28,
   "id": "61c08c09-e175-4514-a764-356b390dab80",
   "metadata": {},
   "outputs": [
    {
     "name": "stdout",
     "output_type": "stream",
     "text": [
      "+----------+------+\n",
      "|      Name|   sex|\n",
      "+----------+------+\n",
      "|  John Doe|  Male|\n",
      "|Jane Smith|Female|\n",
      "+----------+------+\n",
      "only showing top 2 rows\n",
      "\n"
     ]
    }
   ],
   "source": [
    "name_df.show(2)"
   ]
  },
  {
   "cell_type": "code",
   "execution_count": 31,
   "id": "a995ccb3-092e-411d-90c5-d8ccbfd9f40e",
   "metadata": {},
   "outputs": [
    {
     "data": {
      "text/plain": [
       "[('Name', 'string'),\n",
       " ('Sex', 'string'),\n",
       " ('Age', 'int'),\n",
       " ('Address', 'string'),\n",
       " ('Email', 'string'),\n",
       " ('Phone Number', 'string')]"
      ]
     },
     "execution_count": 31,
     "metadata": {},
     "output_type": "execute_result"
    }
   ],
   "source": [
    "# Checking data types\n",
    "pii_df.dtypes"
   ]
  },
  {
   "cell_type": "markdown",
   "id": "f04705ce-b735-4b96-b132-6f85a5644d7e",
   "metadata": {},
   "source": [
    "### Find Statistics on Data"
   ]
  },
  {
   "cell_type": "code",
   "execution_count": 32,
   "id": "47976b1d-a164-4d28-a0ee-49e8353c127a",
   "metadata": {
    "scrolled": true
   },
   "outputs": [
    {
     "name": "stderr",
     "output_type": "stream",
     "text": [
      "23/10/07 15:35:46 WARN SparkStringUtils: Truncated the string representation of a plan since it was too large. This behavior can be adjusted by setting 'spark.sql.debug.maxToStringFields'.\n"
     ]
    },
    {
     "name": "stdout",
     "output_type": "stream",
     "text": [
      "+-------+--------------+------+-----------------+--------------------+--------------------+------------+\n",
      "|summary|          Name|   Sex|              Age|             Address|               Email|Phone Number|\n",
      "+-------+--------------+------+-----------------+--------------------+--------------------+------------+\n",
      "|  count|            31|    31|               31|                  31|                  31|          31|\n",
      "|   mean|          NULL|  NULL|33.41935483870968|                NULL|                NULL|        NULL|\n",
      "| stddev|          NULL|  NULL|7.522296606526437|                NULL|                NULL|        NULL|\n",
      "|    min|Abigail Wilson|Female|               22| 123 Main St, City A|abigail.wilson@ex...|111-222-3333|\n",
      "|    max|   Zoe Johnson|  Male|               55|987 Pine St, City JJ|zoe.johnson@examp...|999-777-8888|\n",
      "+-------+--------------+------+-----------------+--------------------+--------------------+------------+\n",
      "\n"
     ]
    }
   ],
   "source": [
    "# Getting statistics in pyspark\n",
    "# pandas has similar .describe() method as well\n",
    "pii_df.describe().show(5)"
   ]
  },
  {
   "cell_type": "markdown",
   "id": "bf2fbf31-852e-4188-aa83-599f544e79cd",
   "metadata": {},
   "source": [
    "### Adding columns"
   ]
  },
  {
   "cell_type": "code",
   "execution_count": 38,
   "id": "db612af4-64ed-4dc3-bfec-eaec23b23fd8",
   "metadata": {},
   "outputs": [
    {
     "name": "stdout",
     "output_type": "stream",
     "text": [
      "+---------------+------+---+--------------------+--------------------+------------+----------+\n",
      "|           Name|   Sex|Age|             Address|               Email|Phone Number|Age Normal|\n",
      "+---------------+------+---+--------------------+--------------------+------------+----------+\n",
      "|       John Doe|  Male| 35| 123 Main St, City A|john.doe@example.com|123-456-7890|      0.35|\n",
      "|     Jane Smith|Female| 28|  456 Elm St, City B|jane.smith@exampl...|987-654-3210|      0.28|\n",
      "|      David Lee|  Male| 45|  789 Oak St, City C|david.lee@example...|555-123-4567|      0.45|\n",
      "|     Mary Brown|Female| 22|321 Birch St, City D|mary.brown@exampl...|777-888-9999|      0.22|\n",
      "|     James Wang|  Male| 32| 567 Pine St, City E|james.wang@exampl...|111-222-3333|      0.32|\n",
      "|      Lisa Chen|Female| 40|654 Cedar St, City F|lisa.chen@example...|999-777-8888|       0.4|\n",
      "|       Mark Kim|  Male| 27|890 Willow St, Ci...|mark.kim@example.com|333-444-5555|      0.27|\n",
      "|      Sarah Liu|Female| 33|432 Redwood St, C...|sarah.liu@example...|666-777-8888|      0.33|\n",
      "|Michael Johnson|  Male| 55|  765 Oak St, City I|michael.johnson@e...|123-987-6543|      0.55|\n",
      "|   Emily Wilson|Female| 29|987 Birch St, City J|emily.wilson@exam...|888-999-7777|      0.29|\n",
      "|    Zoe Johnson|Female| 34|567 Birch St, City T|zoe.johnson@examp...|555-666-7777|      0.34|\n",
      "|   Ethan Wilson|  Male| 29|  876 Oak St, City U|ethan.wilson@exam...|777-666-5555|      0.29|\n",
      "|      Mia Davis|Female| 42|  321 Elm St, City V|mia.davis@example...|222-333-4444|      0.42|\n",
      "|    Samuel Chen|  Male| 44|432 Cedar St, City W|samuel.chen@examp...|666-444-3333|      0.44|\n",
      "|     Ava Garcia|Female| 27| 765 Pine St, City X|ava.garcia@exampl...|888-777-6666|      0.27|\n",
      "|Alexander Brown|  Male| 37|  987 Oak St, City Y|alexander.brown@e...|444-222-1111|      0.37|\n",
      "|      Emma Wang|Female| 23|234 Birch St, City Z|emma.wang@example...|999-111-2222|      0.23|\n",
      "|   Daniel Smith|  Male| 45|543 Cedar St, Cit...|daniel.smith@exam...|555-666-7777|      0.45|\n",
      "|Olivia Martinez|Female| 31|789 Pine St, City BB|olivia.martinez@e...|222-111-4444|      0.31|\n",
      "| Matthew Taylor|  Male| 26| 876 Elm St, City CC|matthew.taylor@ex...|777-333-6666|      0.26|\n",
      "+---------------+------+---+--------------------+--------------------+------------+----------+\n",
      "only showing top 20 rows\n",
      "\n"
     ]
    }
   ],
   "source": [
    "pii_df = pii_df.withColumn(\"Age Normal\", pii_df[\"Age\"]/100)\n",
    "pii_df.show()"
   ]
  },
  {
   "cell_type": "markdown",
   "id": "7c492d8a-65b7-433f-9e80-a6e1a37d20fb",
   "metadata": {},
   "source": [
    "### Dropping columns"
   ]
  },
  {
   "cell_type": "code",
   "execution_count": 42,
   "id": "1a527eea-7789-47e9-8f54-ba636d886d0c",
   "metadata": {},
   "outputs": [],
   "source": [
    "# Drop single column\n",
    "pii_df = pii_df.drop(\"Age Normal\")"
   ]
  },
  {
   "cell_type": "code",
   "execution_count": 44,
   "id": "2db1aaea-9371-4b77-b136-7f4133fcbbcd",
   "metadata": {},
   "outputs": [
    {
     "name": "stdout",
     "output_type": "stream",
     "text": [
      "+---------------+------+---+--------------------+--------------------+------------+\n",
      "|           Name|   Sex|Age|             Address|               Email|Phone Number|\n",
      "+---------------+------+---+--------------------+--------------------+------------+\n",
      "|       John Doe|  Male| 35| 123 Main St, City A|john.doe@example.com|123-456-7890|\n",
      "|     Jane Smith|Female| 28|  456 Elm St, City B|jane.smith@exampl...|987-654-3210|\n",
      "|      David Lee|  Male| 45|  789 Oak St, City C|david.lee@example...|555-123-4567|\n",
      "|     Mary Brown|Female| 22|321 Birch St, City D|mary.brown@exampl...|777-888-9999|\n",
      "|     James Wang|  Male| 32| 567 Pine St, City E|james.wang@exampl...|111-222-3333|\n",
      "|      Lisa Chen|Female| 40|654 Cedar St, City F|lisa.chen@example...|999-777-8888|\n",
      "|       Mark Kim|  Male| 27|890 Willow St, Ci...|mark.kim@example.com|333-444-5555|\n",
      "|      Sarah Liu|Female| 33|432 Redwood St, C...|sarah.liu@example...|666-777-8888|\n",
      "|Michael Johnson|  Male| 55|  765 Oak St, City I|michael.johnson@e...|123-987-6543|\n",
      "|   Emily Wilson|Female| 29|987 Birch St, City J|emily.wilson@exam...|888-999-7777|\n",
      "|    Zoe Johnson|Female| 34|567 Birch St, City T|zoe.johnson@examp...|555-666-7777|\n",
      "|   Ethan Wilson|  Male| 29|  876 Oak St, City U|ethan.wilson@exam...|777-666-5555|\n",
      "|      Mia Davis|Female| 42|  321 Elm St, City V|mia.davis@example...|222-333-4444|\n",
      "|    Samuel Chen|  Male| 44|432 Cedar St, City W|samuel.chen@examp...|666-444-3333|\n",
      "|     Ava Garcia|Female| 27| 765 Pine St, City X|ava.garcia@exampl...|888-777-6666|\n",
      "|Alexander Brown|  Male| 37|  987 Oak St, City Y|alexander.brown@e...|444-222-1111|\n",
      "|      Emma Wang|Female| 23|234 Birch St, City Z|emma.wang@example...|999-111-2222|\n",
      "|   Daniel Smith|  Male| 45|543 Cedar St, Cit...|daniel.smith@exam...|555-666-7777|\n",
      "|Olivia Martinez|Female| 31|789 Pine St, City BB|olivia.martinez@e...|222-111-4444|\n",
      "| Matthew Taylor|  Male| 26| 876 Elm St, City CC|matthew.taylor@ex...|777-333-6666|\n",
      "+---------------+------+---+--------------------+--------------------+------------+\n",
      "only showing top 20 rows\n",
      "\n"
     ]
    }
   ],
   "source": [
    "pii_df.show()"
   ]
  },
  {
   "cell_type": "code",
   "execution_count": 51,
   "id": "d26c7c9c-feb8-4431-8eb8-9f674305a564",
   "metadata": {},
   "outputs": [
    {
     "name": "stdout",
     "output_type": "stream",
     "text": [
      "+----------+------+---+-------------------+\n",
      "|      Name|   Sex|Age|            Address|\n",
      "+----------+------+---+-------------------+\n",
      "|  John Doe|  Male| 35|123 Main St, City A|\n",
      "|Jane Smith|Female| 28| 456 Elm St, City B|\n",
      "| David Lee|  Male| 45| 789 Oak St, City C|\n",
      "+----------+------+---+-------------------+\n",
      "only showing top 3 rows\n",
      "\n"
     ]
    }
   ],
   "source": [
    "# Drop multiple column\n",
    "pii_df.drop(*(\"Email\", \"Phone Number\")).show(3)"
   ]
  },
  {
   "cell_type": "markdown",
   "id": "0a4d0a83-fa4d-4ef9-bfa5-b3137a56174e",
   "metadata": {},
   "source": [
    "### Renaming columns"
   ]
  },
  {
   "cell_type": "code",
   "execution_count": 55,
   "id": "cce17867-f23a-4cd9-a9e9-35edc3e6e776",
   "metadata": {},
   "outputs": [],
   "source": [
    "pii_df = pii_df.withColumnRenamed(\"Sex\",\"Gender\")"
   ]
  },
  {
   "cell_type": "code",
   "execution_count": 57,
   "id": "c8e90656-aff1-4ccc-89d4-251290040886",
   "metadata": {},
   "outputs": [
    {
     "name": "stdout",
     "output_type": "stream",
     "text": [
      "+---------------+------+---+--------------------+--------------------+------------+\n",
      "|           Name|Gender|Age|             Address|               Email|Phone Number|\n",
      "+---------------+------+---+--------------------+--------------------+------------+\n",
      "|       John Doe|  Male| 35| 123 Main St, City A|john.doe@example.com|123-456-7890|\n",
      "|     Jane Smith|Female| 28|  456 Elm St, City B|jane.smith@exampl...|987-654-3210|\n",
      "|      David Lee|  Male| 45|  789 Oak St, City C|david.lee@example...|555-123-4567|\n",
      "|     Mary Brown|Female| 22|321 Birch St, City D|mary.brown@exampl...|777-888-9999|\n",
      "|     James Wang|  Male| 32| 567 Pine St, City E|james.wang@exampl...|111-222-3333|\n",
      "|      Lisa Chen|Female| 40|654 Cedar St, City F|lisa.chen@example...|999-777-8888|\n",
      "|       Mark Kim|  Male| 27|890 Willow St, Ci...|mark.kim@example.com|333-444-5555|\n",
      "|      Sarah Liu|Female| 33|432 Redwood St, C...|sarah.liu@example...|666-777-8888|\n",
      "|Michael Johnson|  Male| 55|  765 Oak St, City I|michael.johnson@e...|123-987-6543|\n",
      "|   Emily Wilson|Female| 29|987 Birch St, City J|emily.wilson@exam...|888-999-7777|\n",
      "+---------------+------+---+--------------------+--------------------+------------+\n",
      "only showing top 10 rows\n",
      "\n"
     ]
    }
   ],
   "source": [
    "pii_df.show(10)"
   ]
  },
  {
   "cell_type": "code",
   "execution_count": null,
   "id": "e31e68f2-02eb-45ad-939f-c8a1ce2876c0",
   "metadata": {},
   "outputs": [],
   "source": []
  }
 ],
 "metadata": {
  "kernelspec": {
   "display_name": "Python 3 (ipykernel)",
   "language": "python",
   "name": "python3"
  },
  "language_info": {
   "codemirror_mode": {
    "name": "ipython",
    "version": 3
   },
   "file_extension": ".py",
   "mimetype": "text/x-python",
   "name": "python",
   "nbconvert_exporter": "python",
   "pygments_lexer": "ipython3",
   "version": "3.8.18"
  }
 },
 "nbformat": 4,
 "nbformat_minor": 5
}
