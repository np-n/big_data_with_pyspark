{
 "cells": [
  {
   "cell_type": "code",
   "execution_count": 1,
   "id": "26ad0384-020b-421d-a439-7ec5243c5ffa",
   "metadata": {},
   "outputs": [],
   "source": [
    "from pyspark.sql import SparkSession"
   ]
  },
  {
   "cell_type": "code",
   "execution_count": 5,
   "id": "6b721f9a-8ef0-4bb7-b962-51a1cbbadd24",
   "metadata": {},
   "outputs": [
    {
     "name": "stderr",
     "output_type": "stream",
     "text": [
      "Setting default log level to \"WARN\".\n",
      "To adjust logging level use sc.setLogLevel(newLevel). For SparkR, use setLogLevel(newLevel).\n",
      "23/10/09 08:19:48 WARN NativeCodeLoader: Unable to load native-hadoop library for your platform... using builtin-java classes where applicable\n",
      "23/10/09 08:19:49 WARN Utils: Service 'SparkUI' could not bind on port 4040. Attempting port 4041.\n",
      "23/10/09 08:19:49 WARN Utils: Service 'SparkUI' could not bind on port 4041. Attempting port 4042.\n",
      "23/10/09 08:19:49 WARN Utils: Service 'SparkUI' could not bind on port 4042. Attempting port 4043.\n"
     ]
    }
   ],
   "source": [
    "spark_session = SparkSession.builder.appName(\"linear_regression\").getOrCreate()"
   ]
  },
  {
   "cell_type": "code",
   "execution_count": 6,
   "id": "111252b5-4372-499d-8346-8fc48fa2e40c",
   "metadata": {},
   "outputs": [
    {
     "data": {
      "text/html": [
       "\n",
       "            <div>\n",
       "                <p><b>SparkSession - in-memory</b></p>\n",
       "                \n",
       "        <div>\n",
       "            <p><b>SparkContext</b></p>\n",
       "\n",
       "            <p><a href=\"http://npn-ideapad-2023:4043\">Spark UI</a></p>\n",
       "\n",
       "            <dl>\n",
       "              <dt>Version</dt>\n",
       "                <dd><code>v3.5.0</code></dd>\n",
       "              <dt>Master</dt>\n",
       "                <dd><code>local[*]</code></dd>\n",
       "              <dt>AppName</dt>\n",
       "                <dd><code>linear_regression</code></dd>\n",
       "            </dl>\n",
       "        </div>\n",
       "        \n",
       "            </div>\n",
       "        "
      ],
      "text/plain": [
       "<pyspark.sql.session.SparkSession at 0x7f8284f293a0>"
      ]
     },
     "execution_count": 6,
     "metadata": {},
     "output_type": "execute_result"
    }
   ],
   "source": [
    "spark_session"
   ]
  },
  {
   "cell_type": "code",
   "execution_count": 7,
   "id": "2a129a55-0723-4400-9232-86f957a51891",
   "metadata": {},
   "outputs": [
    {
     "name": "stdout",
     "output_type": "stream",
     "text": [
      "+----------+----+------+------+---+------+----+\n",
      "|total_bill| tip|   sex|smoker|day|  time|size|\n",
      "+----------+----+------+------+---+------+----+\n",
      "|     16.99|1.01|Female|    No|Sun|Dinner|   2|\n",
      "|     10.34|1.66|  Male|    No|Sun|Dinner|   3|\n",
      "|     21.01| 3.5|  Male|    No|Sun|Dinner|   3|\n",
      "|     23.68|3.31|  Male|    No|Sun|Dinner|   2|\n",
      "|     24.59|3.61|Female|    No|Sun|Dinner|   4|\n",
      "|     25.29|4.71|  Male|    No|Sun|Dinner|   4|\n",
      "|      8.77| 2.0|  Male|    No|Sun|Dinner|   2|\n",
      "|     26.88|3.12|  Male|    No|Sun|Dinner|   4|\n",
      "|     15.04|1.96|  Male|    No|Sun|Dinner|   2|\n",
      "|     14.78|3.23|  Male|    No|Sun|Dinner|   2|\n",
      "|     10.27|1.71|  Male|    No|Sun|Dinner|   2|\n",
      "|     35.26| 5.0|Female|    No|Sun|Dinner|   4|\n",
      "|     15.42|1.57|  Male|    No|Sun|Dinner|   2|\n",
      "|     18.43| 3.0|  Male|    No|Sun|Dinner|   4|\n",
      "|     14.83|3.02|Female|    No|Sun|Dinner|   2|\n",
      "|     21.58|3.92|  Male|    No|Sun|Dinner|   2|\n",
      "|     10.33|1.67|Female|    No|Sun|Dinner|   3|\n",
      "|     16.29|3.71|  Male|    No|Sun|Dinner|   3|\n",
      "|     16.97| 3.5|Female|    No|Sun|Dinner|   3|\n",
      "|     20.65|3.35|  Male|    No|Sat|Dinner|   3|\n",
      "+----------+----+------+------+---+------+----+\n",
      "only showing top 20 rows\n",
      "\n"
     ]
    }
   ],
   "source": [
    "# Read tips dataset\n",
    "tips = spark_session.read.csv(\"./data/tips.csv\", header= True, inferSchema=True)\n",
    "tips.show()"
   ]
  },
  {
   "cell_type": "code",
   "execution_count": 8,
   "id": "0820abce-93f5-4696-be54-e439d82c9875",
   "metadata": {},
   "outputs": [
    {
     "name": "stdout",
     "output_type": "stream",
     "text": [
      "root\n",
      " |-- total_bill: double (nullable = true)\n",
      " |-- tip: double (nullable = true)\n",
      " |-- sex: string (nullable = true)\n",
      " |-- smoker: string (nullable = true)\n",
      " |-- day: string (nullable = true)\n",
      " |-- time: string (nullable = true)\n",
      " |-- size: integer (nullable = true)\n",
      "\n"
     ]
    }
   ],
   "source": [
    "# Get schema of tips dataset\n",
    "tips.printSchema()"
   ]
  },
  {
   "cell_type": "markdown",
   "id": "9cec7967-a522-4ee0-bb67-d1303ebe27a3",
   "metadata": {},
   "source": [
    "### Handling Categorical Features"
   ]
  },
  {
   "cell_type": "code",
   "execution_count": 10,
   "id": "aaa82423-e8fb-42fb-a23b-d968fbbfe84c",
   "metadata": {},
   "outputs": [],
   "source": [
    "from pyspark.ml.feature import StringIndexer"
   ]
  },
  {
   "cell_type": "code",
   "execution_count": 12,
   "id": "12167ebd-4dfe-4f77-8c78-79d2d6069eeb",
   "metadata": {},
   "outputs": [
    {
     "name": "stderr",
     "output_type": "stream",
     "text": [
      "                                                                                \r"
     ]
    },
    {
     "name": "stdout",
     "output_type": "stream",
     "text": [
      "+----------+----+------+------+---+------+----+-----------+\n",
      "|total_bill| tip|   sex|smoker|day|  time|size|sex_encoded|\n",
      "+----------+----+------+------+---+------+----+-----------+\n",
      "|     16.99|1.01|Female|    No|Sun|Dinner|   2|        1.0|\n",
      "|     10.34|1.66|  Male|    No|Sun|Dinner|   3|        0.0|\n",
      "|     21.01| 3.5|  Male|    No|Sun|Dinner|   3|        0.0|\n",
      "|     23.68|3.31|  Male|    No|Sun|Dinner|   2|        0.0|\n",
      "|     24.59|3.61|Female|    No|Sun|Dinner|   4|        1.0|\n",
      "|     25.29|4.71|  Male|    No|Sun|Dinner|   4|        0.0|\n",
      "|      8.77| 2.0|  Male|    No|Sun|Dinner|   2|        0.0|\n",
      "|     26.88|3.12|  Male|    No|Sun|Dinner|   4|        0.0|\n",
      "|     15.04|1.96|  Male|    No|Sun|Dinner|   2|        0.0|\n",
      "|     14.78|3.23|  Male|    No|Sun|Dinner|   2|        0.0|\n",
      "|     10.27|1.71|  Male|    No|Sun|Dinner|   2|        0.0|\n",
      "|     35.26| 5.0|Female|    No|Sun|Dinner|   4|        1.0|\n",
      "|     15.42|1.57|  Male|    No|Sun|Dinner|   2|        0.0|\n",
      "|     18.43| 3.0|  Male|    No|Sun|Dinner|   4|        0.0|\n",
      "|     14.83|3.02|Female|    No|Sun|Dinner|   2|        1.0|\n",
      "|     21.58|3.92|  Male|    No|Sun|Dinner|   2|        0.0|\n",
      "|     10.33|1.67|Female|    No|Sun|Dinner|   3|        1.0|\n",
      "|     16.29|3.71|  Male|    No|Sun|Dinner|   3|        0.0|\n",
      "|     16.97| 3.5|Female|    No|Sun|Dinner|   3|        1.0|\n",
      "|     20.65|3.35|  Male|    No|Sat|Dinner|   3|        0.0|\n",
      "+----------+----+------+------+---+------+----+-----------+\n",
      "only showing top 20 rows\n",
      "\n"
     ]
    }
   ],
   "source": [
    "# Encoding single columns\n",
    "indexer = StringIndexer(inputCol=\"sex\", outputCol=\"sex_encoded\")\n",
    "df = indexer.fit(tips).transform(tips)\n",
    "df.show()"
   ]
  },
  {
   "cell_type": "code",
   "execution_count": 13,
   "id": "ffcdd01f-eed4-419c-8cdf-8bc69786f9da",
   "metadata": {
    "scrolled": true
   },
   "outputs": [
    {
     "name": "stdout",
     "output_type": "stream",
     "text": [
      "+----------+----+------+------+---+------+----+-----------+--------------+-----------+------------+\n",
      "|total_bill| tip|   sex|smoker|day|  time|size|sex_encoded|smoker_encoded|day_encoded|time_encoded|\n",
      "+----------+----+------+------+---+------+----+-----------+--------------+-----------+------------+\n",
      "|     16.99|1.01|Female|    No|Sun|Dinner|   2|        1.0|           0.0|        1.0|         0.0|\n",
      "|     10.34|1.66|  Male|    No|Sun|Dinner|   3|        0.0|           0.0|        1.0|         0.0|\n",
      "|     21.01| 3.5|  Male|    No|Sun|Dinner|   3|        0.0|           0.0|        1.0|         0.0|\n",
      "|     23.68|3.31|  Male|    No|Sun|Dinner|   2|        0.0|           0.0|        1.0|         0.0|\n",
      "|     24.59|3.61|Female|    No|Sun|Dinner|   4|        1.0|           0.0|        1.0|         0.0|\n",
      "|     25.29|4.71|  Male|    No|Sun|Dinner|   4|        0.0|           0.0|        1.0|         0.0|\n",
      "|      8.77| 2.0|  Male|    No|Sun|Dinner|   2|        0.0|           0.0|        1.0|         0.0|\n",
      "|     26.88|3.12|  Male|    No|Sun|Dinner|   4|        0.0|           0.0|        1.0|         0.0|\n",
      "|     15.04|1.96|  Male|    No|Sun|Dinner|   2|        0.0|           0.0|        1.0|         0.0|\n",
      "|     14.78|3.23|  Male|    No|Sun|Dinner|   2|        0.0|           0.0|        1.0|         0.0|\n",
      "|     10.27|1.71|  Male|    No|Sun|Dinner|   2|        0.0|           0.0|        1.0|         0.0|\n",
      "|     35.26| 5.0|Female|    No|Sun|Dinner|   4|        1.0|           0.0|        1.0|         0.0|\n",
      "|     15.42|1.57|  Male|    No|Sun|Dinner|   2|        0.0|           0.0|        1.0|         0.0|\n",
      "|     18.43| 3.0|  Male|    No|Sun|Dinner|   4|        0.0|           0.0|        1.0|         0.0|\n",
      "|     14.83|3.02|Female|    No|Sun|Dinner|   2|        1.0|           0.0|        1.0|         0.0|\n",
      "|     21.58|3.92|  Male|    No|Sun|Dinner|   2|        0.0|           0.0|        1.0|         0.0|\n",
      "|     10.33|1.67|Female|    No|Sun|Dinner|   3|        1.0|           0.0|        1.0|         0.0|\n",
      "|     16.29|3.71|  Male|    No|Sun|Dinner|   3|        0.0|           0.0|        1.0|         0.0|\n",
      "|     16.97| 3.5|Female|    No|Sun|Dinner|   3|        1.0|           0.0|        1.0|         0.0|\n",
      "|     20.65|3.35|  Male|    No|Sat|Dinner|   3|        0.0|           0.0|        0.0|         0.0|\n",
      "+----------+----+------+------+---+------+----+-----------+--------------+-----------+------------+\n",
      "only showing top 20 rows\n",
      "\n"
     ]
    }
   ],
   "source": [
    "# Encoding multiple columns\n",
    "indexer = StringIndexer(inputCols=[\"smoker\",\"day\", \"time\"], outputCols=[\"smoker_encoded\", \"day_encoded\", \"time_encoded\"])\n",
    "df = indexer.fit(df).transform(df)\n",
    "df.show()"
   ]
  },
  {
   "cell_type": "code",
   "execution_count": 14,
   "id": "b7c5d4bd-e537-4cde-9340-c6a2eac26d09",
   "metadata": {},
   "outputs": [
    {
     "data": {
      "text/plain": [
       "['total_bill',\n",
       " 'tip',\n",
       " 'sex',\n",
       " 'smoker',\n",
       " 'day',\n",
       " 'time',\n",
       " 'size',\n",
       " 'sex_encoded',\n",
       " 'smoker_encoded',\n",
       " 'day_encoded',\n",
       " 'time_encoded']"
      ]
     },
     "execution_count": 14,
     "metadata": {},
     "output_type": "execute_result"
    }
   ],
   "source": [
    "df.columns"
   ]
  },
  {
   "cell_type": "markdown",
   "id": "22a5cd21-7ea6-4c6e-97d7-055f2a015ae0",
   "metadata": {},
   "source": [
    "### Train-Test Split"
   ]
  },
  {
   "cell_type": "code",
   "execution_count": 17,
   "id": "d1e9c3c2-6612-46af-8462-de2b54d66414",
   "metadata": {},
   "outputs": [],
   "source": [
    "from pyspark.ml.feature import VectorAssembler\n",
    "features_assembler = VectorAssembler(inputCols=[\"tip\",\"size\",\"sex_encoded\", \"smoker_encoded\", \"day_encoded\", \"time_encoded\"], \n",
    "                outputCol=\"independent_input_features\")\n",
    "df_intermediate = features_assembler.transform(df)\n",
    "                "
   ]
  },
  {
   "cell_type": "code",
   "execution_count": 18,
   "id": "34a59e71-6147-42e9-b451-e53ca6753c1a",
   "metadata": {},
   "outputs": [
    {
     "name": "stdout",
     "output_type": "stream",
     "text": [
      "+----------+----+------+------+---+------+----+-----------+--------------+-----------+------------+--------------------------+\n",
      "|total_bill| tip|   sex|smoker|day|  time|size|sex_encoded|smoker_encoded|day_encoded|time_encoded|independent_input_features|\n",
      "+----------+----+------+------+---+------+----+-----------+--------------+-----------+------------+--------------------------+\n",
      "|     16.99|1.01|Female|    No|Sun|Dinner|   2|        1.0|           0.0|        1.0|         0.0|      [1.01,2.0,1.0,0.0...|\n",
      "|     10.34|1.66|  Male|    No|Sun|Dinner|   3|        0.0|           0.0|        1.0|         0.0|      [1.66,3.0,0.0,0.0...|\n",
      "|     21.01| 3.5|  Male|    No|Sun|Dinner|   3|        0.0|           0.0|        1.0|         0.0|      [3.5,3.0,0.0,0.0,...|\n",
      "|     23.68|3.31|  Male|    No|Sun|Dinner|   2|        0.0|           0.0|        1.0|         0.0|      [3.31,2.0,0.0,0.0...|\n",
      "|     24.59|3.61|Female|    No|Sun|Dinner|   4|        1.0|           0.0|        1.0|         0.0|      [3.61,4.0,1.0,0.0...|\n",
      "|     25.29|4.71|  Male|    No|Sun|Dinner|   4|        0.0|           0.0|        1.0|         0.0|      [4.71,4.0,0.0,0.0...|\n",
      "|      8.77| 2.0|  Male|    No|Sun|Dinner|   2|        0.0|           0.0|        1.0|         0.0|      [2.0,2.0,0.0,0.0,...|\n",
      "|     26.88|3.12|  Male|    No|Sun|Dinner|   4|        0.0|           0.0|        1.0|         0.0|      [3.12,4.0,0.0,0.0...|\n",
      "|     15.04|1.96|  Male|    No|Sun|Dinner|   2|        0.0|           0.0|        1.0|         0.0|      [1.96,2.0,0.0,0.0...|\n",
      "|     14.78|3.23|  Male|    No|Sun|Dinner|   2|        0.0|           0.0|        1.0|         0.0|      [3.23,2.0,0.0,0.0...|\n",
      "|     10.27|1.71|  Male|    No|Sun|Dinner|   2|        0.0|           0.0|        1.0|         0.0|      [1.71,2.0,0.0,0.0...|\n",
      "|     35.26| 5.0|Female|    No|Sun|Dinner|   4|        1.0|           0.0|        1.0|         0.0|      [5.0,4.0,1.0,0.0,...|\n",
      "|     15.42|1.57|  Male|    No|Sun|Dinner|   2|        0.0|           0.0|        1.0|         0.0|      [1.57,2.0,0.0,0.0...|\n",
      "|     18.43| 3.0|  Male|    No|Sun|Dinner|   4|        0.0|           0.0|        1.0|         0.0|      [3.0,4.0,0.0,0.0,...|\n",
      "|     14.83|3.02|Female|    No|Sun|Dinner|   2|        1.0|           0.0|        1.0|         0.0|      [3.02,2.0,1.0,0.0...|\n",
      "|     21.58|3.92|  Male|    No|Sun|Dinner|   2|        0.0|           0.0|        1.0|         0.0|      [3.92,2.0,0.0,0.0...|\n",
      "|     10.33|1.67|Female|    No|Sun|Dinner|   3|        1.0|           0.0|        1.0|         0.0|      [1.67,3.0,1.0,0.0...|\n",
      "|     16.29|3.71|  Male|    No|Sun|Dinner|   3|        0.0|           0.0|        1.0|         0.0|      [3.71,3.0,0.0,0.0...|\n",
      "|     16.97| 3.5|Female|    No|Sun|Dinner|   3|        1.0|           0.0|        1.0|         0.0|      [3.5,3.0,1.0,0.0,...|\n",
      "|     20.65|3.35|  Male|    No|Sat|Dinner|   3|        0.0|           0.0|        0.0|         0.0|      (6,[0,1],[3.35,3.0])|\n",
      "+----------+----+------+------+---+------+----+-----------+--------------+-----------+------------+--------------------------+\n",
      "only showing top 20 rows\n",
      "\n"
     ]
    }
   ],
   "source": [
    "df_intermediate.show()"
   ]
  },
  {
   "cell_type": "code",
   "execution_count": 19,
   "id": "d928120f-9a0a-4678-aaeb-9243056c9917",
   "metadata": {},
   "outputs": [
    {
     "name": "stdout",
     "output_type": "stream",
     "text": [
      "+--------------------------+----------+\n",
      "|independent_input_features|total_bill|\n",
      "+--------------------------+----------+\n",
      "|      [1.01,2.0,1.0,0.0...|     16.99|\n",
      "|      [1.66,3.0,0.0,0.0...|     10.34|\n",
      "|      [3.5,3.0,0.0,0.0,...|     21.01|\n",
      "|      [3.31,2.0,0.0,0.0...|     23.68|\n",
      "|      [3.61,4.0,1.0,0.0...|     24.59|\n",
      "|      [4.71,4.0,0.0,0.0...|     25.29|\n",
      "|      [2.0,2.0,0.0,0.0,...|      8.77|\n",
      "|      [3.12,4.0,0.0,0.0...|     26.88|\n",
      "|      [1.96,2.0,0.0,0.0...|     15.04|\n",
      "|      [3.23,2.0,0.0,0.0...|     14.78|\n",
      "|      [1.71,2.0,0.0,0.0...|     10.27|\n",
      "|      [5.0,4.0,1.0,0.0,...|     35.26|\n",
      "|      [1.57,2.0,0.0,0.0...|     15.42|\n",
      "|      [3.0,4.0,0.0,0.0,...|     18.43|\n",
      "|      [3.02,2.0,1.0,0.0...|     14.83|\n",
      "|      [3.92,2.0,0.0,0.0...|     21.58|\n",
      "|      [1.67,3.0,1.0,0.0...|     10.33|\n",
      "|      [3.71,3.0,0.0,0.0...|     16.29|\n",
      "|      [3.5,3.0,1.0,0.0,...|     16.97|\n",
      "|      (6,[0,1],[3.35,3.0])|     20.65|\n",
      "+--------------------------+----------+\n",
      "only showing top 20 rows\n",
      "\n"
     ]
    }
   ],
   "source": [
    "# Let's select input and output features from the above dataframe\n",
    "df_final = df_intermediate.select(\"independent_input_features\", \"total_bill\")\n",
    "df_final.show()"
   ]
  },
  {
   "cell_type": "code",
   "execution_count": 20,
   "id": "acbd0cfb-c11e-4027-9991-5c6cfdef51f3",
   "metadata": {},
   "outputs": [],
   "source": [
    "# Train-test split\n",
    "# 80:20 split\n",
    "train_data, test_data = df_final.randomSplit([0.8, 0.2])"
   ]
  },
  {
   "cell_type": "markdown",
   "id": "350aeda8-a8ab-4b34-80e1-80d4b323dcf6",
   "metadata": {},
   "source": [
    "### Train Data"
   ]
  },
  {
   "cell_type": "code",
   "execution_count": 23,
   "id": "72ea29c0-0503-4670-8488-7effa6401d3d",
   "metadata": {},
   "outputs": [],
   "source": [
    "from pyspark.ml.regression import LinearRegression"
   ]
  },
  {
   "cell_type": "code",
   "execution_count": 29,
   "id": "a9dee32a-cd85-4db0-af23-358fdd557541",
   "metadata": {},
   "outputs": [
    {
     "name": "stderr",
     "output_type": "stream",
     "text": [
      "23/10/09 08:42:02 WARN Instrumentation: [454e5520] regParam is zero, which might cause numerical instability and overfitting.\n"
     ]
    }
   ],
   "source": [
    "regressor = LinearRegression(featuresCol=\"independent_input_features\", labelCol=\"total_bill\")\n",
    "model = regressor.fit(train_data) # By default it will be trained for 100 epochs"
   ]
  },
  {
   "cell_type": "code",
   "execution_count": 33,
   "id": "e32531bc-c7bd-4d18-a252-b1c99fabcacf",
   "metadata": {},
   "outputs": [
    {
     "data": {
      "text/plain": [
       "DenseVector([3.0236, 3.8157, -0.7053, 1.9901, -0.1141, -1.7917])"
      ]
     },
     "execution_count": 33,
     "metadata": {},
     "output_type": "execute_result"
    }
   ],
   "source": [
    "model.coefficients # Learned cofficients for all independent features"
   ]
  },
  {
   "cell_type": "code",
   "execution_count": 34,
   "id": "f8d9698e-df0e-482a-b8bd-af557b8743bc",
   "metadata": {},
   "outputs": [
    {
     "data": {
      "text/plain": [
       "1.1277017403394627"
      ]
     },
     "execution_count": 34,
     "metadata": {},
     "output_type": "execute_result"
    }
   ],
   "source": [
    "model.intercept"
   ]
  },
  {
   "cell_type": "code",
   "execution_count": 40,
   "id": "1644a7f1-fe7b-4ae0-b00e-b47a9e492f65",
   "metadata": {},
   "outputs": [
    {
     "data": {
      "text/plain": [
       "'squaredError'"
      ]
     },
     "execution_count": 40,
     "metadata": {},
     "output_type": "execute_result"
    }
   ],
   "source": [
    "model.getLoss()"
   ]
  },
  {
   "cell_type": "markdown",
   "id": "991dabbc-d76f-4a14-8ba7-e6d4e470e01a",
   "metadata": {},
   "source": [
    "### Evaluation"
   ]
  },
  {
   "cell_type": "code",
   "execution_count": 35,
   "id": "4b64ea58-be86-4205-85b1-e46f45ee2cb3",
   "metadata": {},
   "outputs": [],
   "source": [
    "results = model.evaluate(test_data)"
   ]
  },
  {
   "cell_type": "code",
   "execution_count": 36,
   "id": "196ddf9f-8a83-4796-bf03-da7547d9058d",
   "metadata": {},
   "outputs": [
    {
     "name": "stdout",
     "output_type": "stream",
     "text": [
      "+--------------------------+----------+------------------+\n",
      "|independent_input_features|total_bill|        prediction|\n",
      "+--------------------------+----------+------------------+\n",
      "|      (6,[0,1],[1.25,2.0])|     10.07|12.538452469799129|\n",
      "|       (6,[0,1],[2.0,3.0])|     16.31|18.621772773290736|\n",
      "|      (6,[0,1],[3.18,2.0])|     19.82|18.373922324280883|\n",
      "|      (6,[0,1],[3.39,2.0])|     11.61|19.008869821400666|\n",
      "|      (6,[0,1],[5.92,3.0])|     29.03|30.474126052859894|\n",
      "|       (6,[0,1],[9.0,4.0])|     48.33|43.602340014870926|\n",
      "|      [1.0,2.0,0.0,1.0,...|      12.6|13.772706031229564|\n",
      "|      [1.25,2.0,1.0,0.0...|      8.51| 9.813274158429595|\n",
      "|      [1.5,2.0,0.0,0.0,...|     19.08|11.274500151336149|\n",
      "|      [1.5,2.0,0.0,1.0,...|     11.59|15.284485786276653|\n",
      "|      [1.57,2.0,0.0,0.0...|     15.42|13.391904954237534|\n",
      "|      [1.71,2.0,0.0,0.0...|     10.27|13.815203285650718|\n",
      "|      [1.92,1.0,0.0,1.0...|      8.58|10.604801354816974|\n",
      "|      [2.0,2.0,0.0,1.0,...|     14.48|16.682178982532008|\n",
      "|      [2.0,3.0,0.0,1.0,...|     30.06|20.611916212244715|\n",
      "|      [2.09,2.0,0.0,1.0...|     15.01| 17.06838589723221|\n",
      "|      [2.3,2.0,1.0,0.0,...|     16.43|12.988011644028479|\n",
      "|      [2.5,2.0,1.0,1.0,...|     11.35|17.260449504612623|\n",
      "|      [2.56,2.0,0.0,1.0...|     28.44| 16.46961667098995|\n",
      "|      [3.0,2.0,0.0,1.0,...|     15.53|19.819825051417915|\n",
      "+--------------------------+----------+------------------+\n",
      "only showing top 20 rows\n",
      "\n"
     ]
    }
   ],
   "source": [
    "results.predictions.show()"
   ]
  },
  {
   "cell_type": "markdown",
   "id": "247bdad5-8ae9-4bd8-89db-fdb8a2167c69",
   "metadata": {},
   "source": [
    "### Performance Metrics"
   ]
  },
  {
   "cell_type": "code",
   "execution_count": 37,
   "id": "2d0b3c94-0955-4603-a4d0-582d69cd6f7c",
   "metadata": {},
   "outputs": [
    {
     "data": {
      "text/plain": [
       "0.5714243193288067"
      ]
     },
     "execution_count": 37,
     "metadata": {},
     "output_type": "execute_result"
    }
   ],
   "source": [
    "results.r2 "
   ]
  },
  {
   "cell_type": "code",
   "execution_count": 38,
   "id": "e59defbf-11c5-4559-af38-b407248b7fe7",
   "metadata": {},
   "outputs": [
    {
     "data": {
      "text/plain": [
       "4.319487635795117"
      ]
     },
     "execution_count": 38,
     "metadata": {},
     "output_type": "execute_result"
    }
   ],
   "source": [
    "results.meanAbsoluteError"
   ]
  },
  {
   "cell_type": "code",
   "execution_count": 39,
   "id": "310d8ca7-32f6-4cee-8cea-18897b34ed44",
   "metadata": {},
   "outputs": [
    {
     "data": {
      "text/plain": [
       "29.80768188172504"
      ]
     },
     "execution_count": 39,
     "metadata": {},
     "output_type": "execute_result"
    }
   ],
   "source": [
    "results.meanSquaredError"
   ]
  },
  {
   "cell_type": "markdown",
   "id": "27871e80-f435-4cb6-b0c0-68e1783fa4b6",
   "metadata": {},
   "source": [
    "### Save Model"
   ]
  },
  {
   "cell_type": "code",
   "execution_count": 41,
   "id": "c8778b65-58e3-4281-80bd-102701edc19c",
   "metadata": {},
   "outputs": [
    {
     "name": "stderr",
     "output_type": "stream",
     "text": [
      "                                                                                \r"
     ]
    }
   ],
   "source": [
    "model.save(\"./models/tips_regression_model\")"
   ]
  },
  {
   "cell_type": "markdown",
   "id": "0639cf52-1ba6-48fe-ba99-64482bb226f8",
   "metadata": {},
   "source": [
    "### Train for 1000 epochs and evaluate Results"
   ]
  },
  {
   "cell_type": "code",
   "execution_count": 42,
   "id": "ae5bd929-183a-4b57-b584-7872ba59e23a",
   "metadata": {},
   "outputs": [
    {
     "name": "stderr",
     "output_type": "stream",
     "text": [
      "23/10/09 08:54:38 WARN Instrumentation: [42b2613d] regParam is zero, which might cause numerical instability and overfitting.\n"
     ]
    }
   ],
   "source": [
    "regressor = LinearRegression(maxIter=1000,featuresCol=\"independent_input_features\", labelCol=\"total_bill\")\n",
    "model = regressor.fit(train_data) "
   ]
  },
  {
   "cell_type": "code",
   "execution_count": 43,
   "id": "6399b0cb-5fd8-4467-b62b-f74ddb5962fa",
   "metadata": {},
   "outputs": [
    {
     "name": "stdout",
     "output_type": "stream",
     "text": [
      "+--------------------------+----------+------------------+\n",
      "|independent_input_features|total_bill|        prediction|\n",
      "+--------------------------+----------+------------------+\n",
      "|      (6,[0,1],[1.25,2.0])|     10.07|12.538452469799129|\n",
      "|       (6,[0,1],[2.0,3.0])|     16.31|18.621772773290736|\n",
      "|      (6,[0,1],[3.18,2.0])|     19.82|18.373922324280883|\n",
      "|      (6,[0,1],[3.39,2.0])|     11.61|19.008869821400666|\n",
      "|      (6,[0,1],[5.92,3.0])|     29.03|30.474126052859894|\n",
      "|       (6,[0,1],[9.0,4.0])|     48.33|43.602340014870926|\n",
      "|      [1.0,2.0,0.0,1.0,...|      12.6|13.772706031229564|\n",
      "|      [1.25,2.0,1.0,0.0...|      8.51| 9.813274158429595|\n",
      "|      [1.5,2.0,0.0,0.0,...|     19.08|11.274500151336149|\n",
      "|      [1.5,2.0,0.0,1.0,...|     11.59|15.284485786276653|\n",
      "|      [1.57,2.0,0.0,0.0...|     15.42|13.391904954237534|\n",
      "|      [1.71,2.0,0.0,0.0...|     10.27|13.815203285650718|\n",
      "|      [1.92,1.0,0.0,1.0...|      8.58|10.604801354816974|\n",
      "|      [2.0,2.0,0.0,1.0,...|     14.48|16.682178982532008|\n",
      "|      [2.0,3.0,0.0,1.0,...|     30.06|20.611916212244715|\n",
      "|      [2.09,2.0,0.0,1.0...|     15.01| 17.06838589723221|\n",
      "|      [2.3,2.0,1.0,0.0,...|     16.43|12.988011644028479|\n",
      "|      [2.5,2.0,1.0,1.0,...|     11.35|17.260449504612623|\n",
      "|      [2.56,2.0,0.0,1.0...|     28.44| 16.46961667098995|\n",
      "|      [3.0,2.0,0.0,1.0,...|     15.53|19.819825051417915|\n",
      "+--------------------------+----------+------------------+\n",
      "only showing top 20 rows\n",
      "\n"
     ]
    }
   ],
   "source": [
    "results = model.evaluate(test_data)\n",
    "results.predictions.show() # Not, satisfactory"
   ]
  },
  {
   "cell_type": "code",
   "execution_count": 44,
   "id": "ad864685-fb61-4dd8-ac38-d74980103185",
   "metadata": {},
   "outputs": [
    {
     "data": {
      "text/plain": [
       "29.80768188172504"
      ]
     },
     "execution_count": 44,
     "metadata": {},
     "output_type": "execute_result"
    }
   ],
   "source": [
    "results.meanSquaredError"
   ]
  },
  {
   "cell_type": "code",
   "execution_count": null,
   "id": "229d56f2-a5d9-4713-927e-de99d6d00cbb",
   "metadata": {},
   "outputs": [],
   "source": []
  }
 ],
 "metadata": {
  "kernelspec": {
   "display_name": "Python 3 (ipykernel)",
   "language": "python",
   "name": "python3"
  },
  "language_info": {
   "codemirror_mode": {
    "name": "ipython",
    "version": 3
   },
   "file_extension": ".py",
   "mimetype": "text/x-python",
   "name": "python",
   "nbconvert_exporter": "python",
   "pygments_lexer": "ipython3",
   "version": "3.8.18"
  }
 },
 "nbformat": 4,
 "nbformat_minor": 5
}
