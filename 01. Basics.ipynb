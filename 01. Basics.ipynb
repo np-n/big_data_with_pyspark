{
 "cells": [
  {
   "cell_type": "markdown",
   "id": "0bad5b40-dad6-462a-b68d-fde841f21296",
   "metadata": {},
   "source": [
    "### Read Data "
   ]
  },
  {
   "cell_type": "code",
   "execution_count": 1,
   "id": "880ca90e-b7c7-40fc-ac19-8093191e0933",
   "metadata": {},
   "outputs": [],
   "source": [
    "import pyspark"
   ]
  },
  {
   "cell_type": "code",
   "execution_count": 47,
   "id": "6b2b32ab-6871-4bc4-99f8-4b5d8ed8704d",
   "metadata": {},
   "outputs": [
    {
     "data": {
      "text/html": [
       "<div>\n",
       "<style scoped>\n",
       "    .dataframe tbody tr th:only-of-type {\n",
       "        vertical-align: middle;\n",
       "    }\n",
       "\n",
       "    .dataframe tbody tr th {\n",
       "        vertical-align: top;\n",
       "    }\n",
       "\n",
       "    .dataframe thead th {\n",
       "        text-align: right;\n",
       "    }\n",
       "</style>\n",
       "<table border=\"1\" class=\"dataframe\">\n",
       "  <thead>\n",
       "    <tr style=\"text-align: right;\">\n",
       "      <th></th>\n",
       "      <th>Name</th>\n",
       "      <th>Sex</th>\n",
       "      <th>Age</th>\n",
       "      <th>Address</th>\n",
       "      <th>Email</th>\n",
       "      <th>Phone Number</th>\n",
       "    </tr>\n",
       "  </thead>\n",
       "  <tbody>\n",
       "    <tr>\n",
       "      <th>0</th>\n",
       "      <td>John Doe</td>\n",
       "      <td>Male</td>\n",
       "      <td>35</td>\n",
       "      <td>123 Main St, City A</td>\n",
       "      <td>john.doe@example.com</td>\n",
       "      <td>123-456-7890</td>\n",
       "    </tr>\n",
       "    <tr>\n",
       "      <th>1</th>\n",
       "      <td>Jane Smith</td>\n",
       "      <td>Female</td>\n",
       "      <td>28</td>\n",
       "      <td>456 Elm St, City B</td>\n",
       "      <td>jane.smith@example.com</td>\n",
       "      <td>987-654-3210</td>\n",
       "    </tr>\n",
       "    <tr>\n",
       "      <th>2</th>\n",
       "      <td>David Lee</td>\n",
       "      <td>Male</td>\n",
       "      <td>45</td>\n",
       "      <td>789 Oak St, City C</td>\n",
       "      <td>david.lee@example.com</td>\n",
       "      <td>555-123-4567</td>\n",
       "    </tr>\n",
       "    <tr>\n",
       "      <th>3</th>\n",
       "      <td>Mary Brown</td>\n",
       "      <td>Female</td>\n",
       "      <td>22</td>\n",
       "      <td>321 Birch St, City D</td>\n",
       "      <td>mary.brown@example.com</td>\n",
       "      <td>777-888-9999</td>\n",
       "    </tr>\n",
       "    <tr>\n",
       "      <th>4</th>\n",
       "      <td>James Wang</td>\n",
       "      <td>Male</td>\n",
       "      <td>32</td>\n",
       "      <td>567 Pine St, City E</td>\n",
       "      <td>james.wang@example.com</td>\n",
       "      <td>111-222-3333</td>\n",
       "    </tr>\n",
       "  </tbody>\n",
       "</table>\n",
       "</div>"
      ],
      "text/plain": [
       "         Name     Sex  Age               Address                   Email  \\\n",
       "0    John Doe    Male   35   123 Main St, City A    john.doe@example.com   \n",
       "1  Jane Smith  Female   28    456 Elm St, City B  jane.smith@example.com   \n",
       "2   David Lee    Male   45    789 Oak St, City C   david.lee@example.com   \n",
       "3  Mary Brown  Female   22  321 Birch St, City D  mary.brown@example.com   \n",
       "4  James Wang    Male   32   567 Pine St, City E  james.wang@example.com   \n",
       "\n",
       "   Phone Number  \n",
       "0  123-456-7890  \n",
       "1  987-654-3210  \n",
       "2  555-123-4567  \n",
       "3  777-888-9999  \n",
       "4  111-222-3333  "
      ]
     },
     "execution_count": 47,
     "metadata": {},
     "output_type": "execute_result"
    }
   ],
   "source": [
    "import pandas as pd\n",
    "pd_df = pd.read_csv(\"data/pii_sample_data.csv\")\n",
    "pd_df.head()"
   ]
  },
  {
   "cell_type": "code",
   "execution_count": 9,
   "id": "d1ed1b6d-134d-4a33-a615-0c96041ea208",
   "metadata": {},
   "outputs": [],
   "source": [
    "# import spark session\n",
    "from pyspark.sql import SparkSession"
   ]
  },
  {
   "cell_type": "code",
   "execution_count": 13,
   "id": "9bf70e7d-7ff3-4924-b223-1516045180e9",
   "metadata": {},
   "outputs": [],
   "source": [
    "# Create spark session: big_data\n",
    "spark_session = SparkSession.builder.appName(\"big_data\").getOrCreate()"
   ]
  },
  {
   "cell_type": "code",
   "execution_count": 14,
   "id": "a1ad9aee-3f40-4b2a-b587-cc2d55869875",
   "metadata": {},
   "outputs": [
    {
     "data": {
      "text/html": [
       "\n",
       "            <div>\n",
       "                <p><b>SparkSession - in-memory</b></p>\n",
       "                \n",
       "        <div>\n",
       "            <p><b>SparkContext</b></p>\n",
       "\n",
       "            <p><a href=\"http://npn-ideapad-2023:4040\">Spark UI</a></p>\n",
       "\n",
       "            <dl>\n",
       "              <dt>Version</dt>\n",
       "                <dd><code>v3.5.0</code></dd>\n",
       "              <dt>Master</dt>\n",
       "                <dd><code>local[*]</code></dd>\n",
       "              <dt>AppName</dt>\n",
       "                <dd><code>big_data</code></dd>\n",
       "            </dl>\n",
       "        </div>\n",
       "        \n",
       "            </div>\n",
       "        "
      ],
      "text/plain": [
       "<pyspark.sql.session.SparkSession at 0x7f5d08ab10a0>"
      ]
     },
     "execution_count": 14,
     "metadata": {},
     "output_type": "execute_result"
    }
   ],
   "source": [
    "# Our spark version is 3.5..0\n",
    "# Local has only one node master\n",
    "spark_session"
   ]
  },
  {
   "cell_type": "code",
   "execution_count": 36,
   "id": "c8c0de14-7a42-48c2-844f-2a87adea36d2",
   "metadata": {},
   "outputs": [],
   "source": [
    "# Read  .csv data\n",
    "pii_df = spark_session.read.csv(\"data/pii_sample_data.csv\")"
   ]
  },
  {
   "cell_type": "code",
   "execution_count": 37,
   "id": "db3e02e7-15f5-49a9-959f-8eebe1540b8e",
   "metadata": {},
   "outputs": [
    {
     "name": "stdout",
     "output_type": "stream",
     "text": [
      "+---------------+------+---+--------------------+--------------------+------------+\n",
      "|            _c0|   _c1|_c2|                 _c3|                 _c4|         _c5|\n",
      "+---------------+------+---+--------------------+--------------------+------------+\n",
      "|           Name|   Sex|Age|             Address|               Email|Phone Number|\n",
      "|       John Doe|  Male| 35| 123 Main St, City A|john.doe@example.com|123-456-7890|\n",
      "|     Jane Smith|Female| 28|  456 Elm St, City B|jane.smith@exampl...|987-654-3210|\n",
      "|      David Lee|  Male| 45|  789 Oak St, City C|david.lee@example...|555-123-4567|\n",
      "|     Mary Brown|Female| 22|321 Birch St, City D|mary.brown@exampl...|777-888-9999|\n",
      "|     James Wang|  Male| 32| 567 Pine St, City E|james.wang@exampl...|111-222-3333|\n",
      "|      Lisa Chen|Female| 40|654 Cedar St, City F|lisa.chen@example...|999-777-8888|\n",
      "|       Mark Kim|  Male| 27|890 Willow St, Ci...|mark.kim@example.com|333-444-5555|\n",
      "|      Sarah Liu|Female| 33|432 Redwood St, C...|sarah.liu@example...|666-777-8888|\n",
      "|Michael Johnson|  Male| 55|  765 Oak St, City I|michael.johnson@e...|123-987-6543|\n",
      "|   Emily Wilson|Female| 29|987 Birch St, City J|emily.wilson@exam...|888-999-7777|\n",
      "|    Zoe Johnson|Female| 34|567 Birch St, City T|zoe.johnson@examp...|555-666-7777|\n",
      "|   Ethan Wilson|  Male| 29|  876 Oak St, City U|ethan.wilson@exam...|777-666-5555|\n",
      "|      Mia Davis|Female| 42|  321 Elm St, City V|mia.davis@example...|222-333-4444|\n",
      "|    Samuel Chen|  Male| 44|432 Cedar St, City W|samuel.chen@examp...|666-444-3333|\n",
      "|     Ava Garcia|Female| 27| 765 Pine St, City X|ava.garcia@exampl...|888-777-6666|\n",
      "|Alexander Brown|  Male| 37|  987 Oak St, City Y|alexander.brown@e...|444-222-1111|\n",
      "|      Emma Wang|Female| 23|234 Birch St, City Z|emma.wang@example...|999-111-2222|\n",
      "|   Daniel Smith|  Male| 45|543 Cedar St, Cit...|daniel.smith@exam...|555-666-7777|\n",
      "|Olivia Martinez|Female| 31|789 Pine St, City BB|olivia.martinez@e...|222-111-4444|\n",
      "+---------------+------+---+--------------------+--------------------+------------+\n",
      "only showing top 20 rows\n",
      "\n"
     ]
    }
   ],
   "source": [
    "pii_df.show()"
   ]
  },
  {
   "cell_type": "code",
   "execution_count": 38,
   "id": "ad9916b1-2c50-426b-b672-8b2b968e2c99",
   "metadata": {},
   "outputs": [],
   "source": [
    "# Reading data along with the header\n",
    "spark_df = spark_session.read.option(\"header\", \"true\").csv(\"data/pii_sample_data.csv\")"
   ]
  },
  {
   "cell_type": "markdown",
   "id": "1dc19c71-c092-4184-b5c2-78d0db03497d",
   "metadata": {},
   "source": [
    "### Display Data"
   ]
  },
  {
   "cell_type": "code",
   "execution_count": 48,
   "id": "ba8e5294-6070-41c4-af06-b09f3d6152e4",
   "metadata": {
    "scrolled": true
   },
   "outputs": [
    {
     "name": "stdout",
     "output_type": "stream",
     "text": [
      "+---------------+------+---+--------------------+--------------------+------------+\n",
      "|           Name|   Sex|Age|             Address|               Email|Phone Number|\n",
      "+---------------+------+---+--------------------+--------------------+------------+\n",
      "|       John Doe|  Male| 35| 123 Main St, City A|john.doe@example.com|123-456-7890|\n",
      "|     Jane Smith|Female| 28|  456 Elm St, City B|jane.smith@exampl...|987-654-3210|\n",
      "|      David Lee|  Male| 45|  789 Oak St, City C|david.lee@example...|555-123-4567|\n",
      "|     Mary Brown|Female| 22|321 Birch St, City D|mary.brown@exampl...|777-888-9999|\n",
      "|     James Wang|  Male| 32| 567 Pine St, City E|james.wang@exampl...|111-222-3333|\n",
      "|      Lisa Chen|Female| 40|654 Cedar St, City F|lisa.chen@example...|999-777-8888|\n",
      "|       Mark Kim|  Male| 27|890 Willow St, Ci...|mark.kim@example.com|333-444-5555|\n",
      "|      Sarah Liu|Female| 33|432 Redwood St, C...|sarah.liu@example...|666-777-8888|\n",
      "|Michael Johnson|  Male| 55|  765 Oak St, City I|michael.johnson@e...|123-987-6543|\n",
      "|   Emily Wilson|Female| 29|987 Birch St, City J|emily.wilson@exam...|888-999-7777|\n",
      "|    Zoe Johnson|Female| 34|567 Birch St, City T|zoe.johnson@examp...|555-666-7777|\n",
      "|   Ethan Wilson|  Male| 29|  876 Oak St, City U|ethan.wilson@exam...|777-666-5555|\n",
      "|      Mia Davis|Female| 42|  321 Elm St, City V|mia.davis@example...|222-333-4444|\n",
      "|    Samuel Chen|  Male| 44|432 Cedar St, City W|samuel.chen@examp...|666-444-3333|\n",
      "|     Ava Garcia|Female| 27| 765 Pine St, City X|ava.garcia@exampl...|888-777-6666|\n",
      "|Alexander Brown|  Male| 37|  987 Oak St, City Y|alexander.brown@e...|444-222-1111|\n",
      "|      Emma Wang|Female| 23|234 Birch St, City Z|emma.wang@example...|999-111-2222|\n",
      "|   Daniel Smith|  Male| 45|543 Cedar St, Cit...|daniel.smith@exam...|555-666-7777|\n",
      "|Olivia Martinez|Female| 31|789 Pine St, City BB|olivia.martinez@e...|222-111-4444|\n",
      "| Matthew Taylor|  Male| 26| 876 Elm St, City CC|matthew.taylor@ex...|777-333-6666|\n",
      "+---------------+------+---+--------------------+--------------------+------------+\n",
      "only showing top 20 rows\n",
      "\n"
     ]
    }
   ],
   "source": [
    "# Display all data, if size of data is greater than 20 then it only display first 20 rows\n",
    "spark_df.show() # like .head() method in pandas"
   ]
  },
  {
   "cell_type": "code",
   "execution_count": 49,
   "id": "efa7c324-4d85-4660-8770-0e0621d6ba2d",
   "metadata": {},
   "outputs": [
    {
     "name": "stdout",
     "output_type": "stream",
     "text": [
      "+----------+------+---+--------------------+--------------------+------------+\n",
      "|      Name|   Sex|Age|             Address|               Email|Phone Number|\n",
      "+----------+------+---+--------------------+--------------------+------------+\n",
      "|  John Doe|  Male| 35| 123 Main St, City A|john.doe@example.com|123-456-7890|\n",
      "|Jane Smith|Female| 28|  456 Elm St, City B|jane.smith@exampl...|987-654-3210|\n",
      "| David Lee|  Male| 45|  789 Oak St, City C|david.lee@example...|555-123-4567|\n",
      "|Mary Brown|Female| 22|321 Birch St, City D|mary.brown@exampl...|777-888-9999|\n",
      "|James Wang|  Male| 32| 567 Pine St, City E|james.wang@exampl...|111-222-3333|\n",
      "+----------+------+---+--------------------+--------------------+------------+\n",
      "only showing top 5 rows\n",
      "\n"
     ]
    }
   ],
   "source": [
    "# Display only first 5 rows\n",
    "spark_df.show(5)"
   ]
  },
  {
   "cell_type": "code",
   "execution_count": 41,
   "id": "2b51990c-079d-4f4e-b81a-e4bcdd754748",
   "metadata": {},
   "outputs": [
    {
     "data": {
      "text/plain": [
       "[Row(Name='John Doe', Sex='Male', Age='35', Address='123 Main St, City A', Email='john.doe@example.com', Phone Number='123-456-7890'),\n",
       " Row(Name='Jane Smith', Sex='Female', Age='28', Address='456 Elm St, City B', Email='jane.smith@example.com', Phone Number='987-654-3210'),\n",
       " Row(Name='David Lee', Sex='Male', Age='45', Address='789 Oak St, City C', Email='david.lee@example.com', Phone Number='555-123-4567'),\n",
       " Row(Name='Mary Brown', Sex='Female', Age='22', Address='321 Birch St, City D', Email='mary.brown@example.com', Phone Number='777-888-9999'),\n",
       " Row(Name='James Wang', Sex='Male', Age='32', Address='567 Pine St, City E', Email='james.wang@example.com', Phone Number='111-222-3333')]"
      ]
     },
     "execution_count": 41,
     "metadata": {},
     "output_type": "execute_result"
    }
   ],
   "source": [
    "spark_df.head(5) # get first 5 rows"
   ]
  },
  {
   "cell_type": "code",
   "execution_count": 53,
   "id": "c7ecc450-412b-461b-b714-cef687c99e95",
   "metadata": {},
   "outputs": [
    {
     "data": {
      "text/plain": [
       "[Row(Name='Charlotte Turner', Sex='Female', Age='27', Address='987 Pine St, City JJ', Email='charlotte.turner@example.com', Phone Number='333-666-7777'),\n",
       " Row(Name='Michael Walker', Sex='Male', Age='40', Address='876 Redwood St, City KK', Email='michael.walker@example.com', Phone Number='777-444-5555'),\n",
       " Row(Name='Harper King', Sex='Female', Age='24', Address='543 Elm St, City LL', Email='harper.king@example.com', Phone Number='666-555-4444'),\n",
       " Row(Name='Elijah Adams', Sex='Male', Age='38', Address='234 Cedar St, City MM', Email='elijah.adams@example.com', Phone Number='555-444-3333'),\n",
       " Row(Name='Lily Hall', Sex='Female', Age='33', Address='432 Pine St, City NN', Email='lily.hall@example.com', Phone Number='333-555-6666')]"
      ]
     },
     "execution_count": 53,
     "metadata": {},
     "output_type": "execute_result"
    }
   ],
   "source": [
    "spark_df.tail(5) # get last 5 rows"
   ]
  },
  {
   "cell_type": "markdown",
   "id": "588b8143-7c94-48e4-b023-0b086354e528",
   "metadata": {},
   "source": [
    "### Data types"
   ]
  },
  {
   "cell_type": "code",
   "execution_count": 43,
   "id": "9e0a2564-58d1-4e0c-99eb-c0cf78361223",
   "metadata": {},
   "outputs": [
    {
     "data": {
      "text/plain": [
       "pandas.core.frame.DataFrame"
      ]
     },
     "execution_count": 43,
     "metadata": {},
     "output_type": "execute_result"
    }
   ],
   "source": [
    "type(pd_df)"
   ]
  },
  {
   "cell_type": "code",
   "execution_count": 42,
   "id": "c485fb53-96cd-4af8-bb99-0140a2a32fa0",
   "metadata": {},
   "outputs": [
    {
     "data": {
      "text/plain": [
       "pyspark.sql.dataframe.DataFrame"
      ]
     },
     "execution_count": 42,
     "metadata": {},
     "output_type": "execute_result"
    }
   ],
   "source": [
    "# Let's see the type of the dataframe in the spark\n",
    "type(spark_df)"
   ]
  },
  {
   "cell_type": "code",
   "execution_count": 44,
   "id": "9c0c5922-ae6e-4b2d-8000-5e2ed35ee769",
   "metadata": {},
   "outputs": [
    {
     "name": "stdout",
     "output_type": "stream",
     "text": [
      "<class 'pandas.core.frame.DataFrame'>\n",
      "RangeIndex: 31 entries, 0 to 30\n",
      "Data columns (total 6 columns):\n",
      " #   Column        Non-Null Count  Dtype \n",
      "---  ------        --------------  ----- \n",
      " 0   Name          31 non-null     object\n",
      " 1   Sex           31 non-null     object\n",
      " 2   Age           31 non-null     int64 \n",
      " 3   Address       31 non-null     object\n",
      " 4   Email         31 non-null     object\n",
      " 5   Phone Number  31 non-null     object\n",
      "dtypes: int64(1), object(5)\n",
      "memory usage: 1.6+ KB\n"
     ]
    }
   ],
   "source": [
    "pd_df.info()"
   ]
  },
  {
   "cell_type": "code",
   "execution_count": 45,
   "id": "76bdffba-9724-4620-89e4-081031eefa31",
   "metadata": {},
   "outputs": [
    {
     "name": "stdout",
     "output_type": "stream",
     "text": [
      "root\n",
      " |-- Name: string (nullable = true)\n",
      " |-- Sex: string (nullable = true)\n",
      " |-- Age: string (nullable = true)\n",
      " |-- Address: string (nullable = true)\n",
      " |-- Email: string (nullable = true)\n",
      " |-- Phone Number: string (nullable = true)\n",
      "\n"
     ]
    }
   ],
   "source": [
    "# Getting information about the dataframe columns\n",
    "spark_df.printSchema()"
   ]
  },
  {
   "cell_type": "code",
   "execution_count": null,
   "id": "9a05b767-b454-44b5-a3cf-a3b764faf89b",
   "metadata": {},
   "outputs": [],
   "source": []
  }
 ],
 "metadata": {
  "kernelspec": {
   "display_name": "Python 3 (ipykernel)",
   "language": "python",
   "name": "python3"
  },
  "language_info": {
   "codemirror_mode": {
    "name": "ipython",
    "version": 3
   },
   "file_extension": ".py",
   "mimetype": "text/x-python",
   "name": "python",
   "nbconvert_exporter": "python",
   "pygments_lexer": "ipython3",
   "version": "3.8.18"
  }
 },
 "nbformat": 4,
 "nbformat_minor": 5
}
