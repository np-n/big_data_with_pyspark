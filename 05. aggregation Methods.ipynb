{
 "cells": [
  {
   "cell_type": "code",
   "execution_count": 1,
   "id": "43cd132c-e749-4505-916d-875a0f41456c",
   "metadata": {},
   "outputs": [],
   "source": [
    "from pyspark.sql import SparkSession"
   ]
  },
  {
   "cell_type": "code",
   "execution_count": 2,
   "id": "f3e8db62-b777-4b6b-9aa0-7d4562b16678",
   "metadata": {},
   "outputs": [
    {
     "name": "stderr",
     "output_type": "stream",
     "text": [
      "Setting default log level to \"WARN\".\n",
      "To adjust logging level use sc.setLogLevel(newLevel). For SparkR, use setLogLevel(newLevel).\n",
      "23/10/08 10:22:00 WARN NativeCodeLoader: Unable to load native-hadoop library for your platform... using builtin-java classes where applicable\n",
      "23/10/08 10:22:01 WARN Utils: Service 'SparkUI' could not bind on port 4040. Attempting port 4041.\n"
     ]
    }
   ],
   "source": [
    "spark_sess = SparkSession.builder.appName(\"aggreation_app\").getOrCreate()"
   ]
  },
  {
   "cell_type": "code",
   "execution_count": 3,
   "id": "b0bf32cd-7380-4bbc-9ba2-e58d316a8377",
   "metadata": {},
   "outputs": [
    {
     "data": {
      "text/html": [
       "\n",
       "            <div>\n",
       "                <p><b>SparkSession - in-memory</b></p>\n",
       "                \n",
       "        <div>\n",
       "            <p><b>SparkContext</b></p>\n",
       "\n",
       "            <p><a href=\"http://npn-ideapad-2023:4041\">Spark UI</a></p>\n",
       "\n",
       "            <dl>\n",
       "              <dt>Version</dt>\n",
       "                <dd><code>v3.5.0</code></dd>\n",
       "              <dt>Master</dt>\n",
       "                <dd><code>local[*]</code></dd>\n",
       "              <dt>AppName</dt>\n",
       "                <dd><code>aggreation_app</code></dd>\n",
       "            </dl>\n",
       "        </div>\n",
       "        \n",
       "            </div>\n",
       "        "
      ],
      "text/plain": [
       "<pyspark.sql.session.SparkSession at 0x7ff185f10430>"
      ]
     },
     "execution_count": 3,
     "metadata": {},
     "output_type": "execute_result"
    }
   ],
   "source": [
    "spark_sess"
   ]
  },
  {
   "cell_type": "code",
   "execution_count": 5,
   "id": "4b3ec188-4f3d-4451-aebb-3852282d7fb3",
   "metadata": {},
   "outputs": [],
   "source": [
    "# Read data\n",
    "df = spark_sess.read.csv(\"./data/employee_data.csv\", header=True, inferSchema=True)"
   ]
  },
  {
   "cell_type": "code",
   "execution_count": 6,
   "id": "8f74c05b-39cc-4c84-9341-d7df73f1ac55",
   "metadata": {},
   "outputs": [
    {
     "name": "stdout",
     "output_type": "stream",
     "text": [
      "+---------------+---+------+----------+---------+------+\n",
      "|  Employee Name|Age|   Sex|Department|  Country|Salary|\n",
      "+---------------+---+------+----------+---------+------+\n",
      "|       John Doe| 28|  Male|     Sales|      USA| 55000|\n",
      "|     Jane Smith| 34|Female|        HR|   Canada| 62000|\n",
      "|Michael Johnson| 42|  Male|        IT|       UK| 75000|\n",
      "|    Emily Davis| 29|Female| Marketing|Australia| 60000|\n",
      "|  William Brown| 37|  Male|   Finance|  Germany| 68000|\n",
      "|      Linda Lee| 31|Female|     Sales|      USA| 58000|\n",
      "|   James Wilson| 45|  Male|        IT|   Canada| 72000|\n",
      "|    Mary Taylor| 27|Female| Marketing|       UK| 59000|\n",
      "|   Robert Clark| 38|  Male|   Finance|Australia| 71000|\n",
      "| Sarah Martinez| 32|Female|        HR|  Germany| 63000|\n",
      "|    David White| 29|  Male|     Sales|      USA| 55000|\n",
      "| Karen Anderson| 43|Female|        IT|   Canada| 72000|\n",
      "| Charles Harris| 35|  Male| Marketing|       UK| 65000|\n",
      "| Patricia Lewis| 28|Female|   Finance|Australia| 60000|\n",
      "| Joseph Jackson| 39|  Male|        HR|  Germany| 67000|\n",
      "|    Nancy Moore| 30|Female|     Sales|      USA| 57000|\n",
      "|  Daniel Taylor| 44|  Male|        IT|   Canada| 71000|\n",
      "| Elizabeth Hall| 33|Female| Marketing|       UK| 62000|\n",
      "|  Thomas Garcia| 36|  Male|   Finance|Australia| 69000|\n",
      "|   Susan Turner| 28|Female|        HR|  Germany| 63000|\n",
      "+---------------+---+------+----------+---------+------+\n",
      "only showing top 20 rows\n",
      "\n"
     ]
    }
   ],
   "source": [
    "df.show()"
   ]
  },
  {
   "cell_type": "code",
   "execution_count": 16,
   "id": "fa402dc1-9927-438d-a029-d39ce75f10a2",
   "metadata": {},
   "outputs": [
    {
     "name": "stdout",
     "output_type": "stream",
     "text": [
      "root\n",
      " |-- Employee Name: string (nullable = true)\n",
      " |-- Age: integer (nullable = true)\n",
      " |-- Sex: string (nullable = true)\n",
      " |-- Department: string (nullable = true)\n",
      " |-- Country: string (nullable = true)\n",
      " |-- Salary: integer (nullable = true)\n",
      "\n"
     ]
    }
   ],
   "source": [
    "df.printSchema()"
   ]
  },
  {
   "cell_type": "markdown",
   "id": "16df37bb-c3f8-4915-87aa-f861d8807d77",
   "metadata": {},
   "source": [
    "### Aggregation methods"
   ]
  },
  {
   "cell_type": "markdown",
   "id": "a4d84836-c07d-4366-8a74-249cb3a9b7ce",
   "metadata": {},
   "source": [
    "- sum"
   ]
  },
  {
   "cell_type": "code",
   "execution_count": 7,
   "id": "455404cb-d126-4547-a0b3-bd3ac1223532",
   "metadata": {},
   "outputs": [
    {
     "name": "stdout",
     "output_type": "stream",
     "text": [
      "+-----------+\n",
      "|sum(Salary)|\n",
      "+-----------+\n",
      "|    1622000|\n",
      "+-----------+\n",
      "\n"
     ]
    }
   ],
   "source": [
    "# get total salary of employee\n",
    "df.agg({\"Salary\":\"sum\"}).show()"
   ]
  },
  {
   "cell_type": "markdown",
   "id": "e9ad4f08-3ff5-4b65-952e-1b1930e0823c",
   "metadata": {},
   "source": [
    "- Mean"
   ]
  },
  {
   "cell_type": "code",
   "execution_count": 9,
   "id": "32021eb7-ebe7-4f6c-87f8-e5629d9ead12",
   "metadata": {},
   "outputs": [
    {
     "name": "stdout",
     "output_type": "stream",
     "text": [
      "+-----------+\n",
      "|avg(Salary)|\n",
      "+-----------+\n",
      "|    64880.0|\n",
      "+-----------+\n",
      "\n"
     ]
    }
   ],
   "source": [
    "# get average salary of employee\n",
    "df.agg({\"Salary\":\"mean\"}).show()"
   ]
  },
  {
   "cell_type": "markdown",
   "id": "93d6e6ce-5b88-4584-95f4-e57c2859be83",
   "metadata": {},
   "source": [
    "- Min"
   ]
  },
  {
   "cell_type": "code",
   "execution_count": 10,
   "id": "34f6af78-f621-48a8-9064-a78dbc11c028",
   "metadata": {},
   "outputs": [
    {
     "name": "stdout",
     "output_type": "stream",
     "text": [
      "+-----------+\n",
      "|min(Salary)|\n",
      "+-----------+\n",
      "|      55000|\n",
      "+-----------+\n",
      "\n"
     ]
    }
   ],
   "source": [
    "# get minimum salary of employee\n",
    "df.agg({\"Salary\":\"min\"}).show()"
   ]
  },
  {
   "cell_type": "markdown",
   "id": "8a56fdac-180a-4887-b829-af3bc685530f",
   "metadata": {},
   "source": [
    "- Max"
   ]
  },
  {
   "cell_type": "code",
   "execution_count": 11,
   "id": "795da516-616a-4fde-b66c-97c733772749",
   "metadata": {},
   "outputs": [
    {
     "name": "stdout",
     "output_type": "stream",
     "text": [
      "+-----------+\n",
      "|max(Salary)|\n",
      "+-----------+\n",
      "|      75000|\n",
      "+-----------+\n",
      "\n"
     ]
    }
   ],
   "source": [
    "# get maximum salary of employee\n",
    "df.agg({\"Salary\":\"max\"}).show()"
   ]
  },
  {
   "cell_type": "code",
   "execution_count": 14,
   "id": "f9022dc6-fe75-45c1-a806-783bba7311fa",
   "metadata": {},
   "outputs": [],
   "source": [
    "# Alternative method\n",
    "from pyspark.sql.functions import avg, sum, max, min\n",
    "agg_df = df.agg(avg(\"Salary\"), sum(\"Salary\"), max(\"Salary\"), min(\"Salary\"))"
   ]
  },
  {
   "cell_type": "code",
   "execution_count": 15,
   "id": "397a9b79-3be1-43c2-bd3f-c8a3e550a052",
   "metadata": {},
   "outputs": [
    {
     "name": "stdout",
     "output_type": "stream",
     "text": [
      "+-----------+-----------+-----------+-----------+\n",
      "|avg(Salary)|sum(Salary)|max(Salary)|min(Salary)|\n",
      "+-----------+-----------+-----------+-----------+\n",
      "|    64880.0|    1622000|      75000|      55000|\n",
      "+-----------+-----------+-----------+-----------+\n",
      "\n"
     ]
    }
   ],
   "source": [
    "agg_df.show()"
   ]
  },
  {
   "cell_type": "markdown",
   "id": "bbf934ec-ffbf-4050-92a0-4c070cc0993b",
   "metadata": {},
   "source": [
    "#### Group By followed by aggregation"
   ]
  },
  {
   "cell_type": "code",
   "execution_count": 17,
   "id": "55c4f205-20c5-44c4-9b77-627f6270053c",
   "metadata": {},
   "outputs": [
    {
     "name": "stdout",
     "output_type": "stream",
     "text": [
      "+------+-----------------+-----------------+\n",
      "|   Sex|         avg(Age)|      avg(Salary)|\n",
      "+------+-----------------+-----------------+\n",
      "|Female|            31.25|          62750.0|\n",
      "|  Male|37.76923076923077|66846.15384615384|\n",
      "+------+-----------------+-----------------+\n",
      "\n"
     ]
    }
   ],
   "source": [
    "# Get average salary according to sex\n",
    "df.groupBy(\"Sex\").mean().show()"
   ]
  },
  {
   "cell_type": "code",
   "execution_count": 35,
   "id": "54fa6720-68a7-4bc7-9bb8-93204bea1617",
   "metadata": {},
   "outputs": [
    {
     "name": "stdout",
     "output_type": "stream",
     "text": [
      "+----------+--------+-----------+\n",
      "|Department|avg(Age)|avg(Salary)|\n",
      "+----------+--------+-----------+\n",
      "|     Sales|    31.8|    58200.0|\n",
      "|        HR|    34.0|    64400.0|\n",
      "|   Finance|    33.6|    66400.0|\n",
      "| Marketing|    32.8|    62800.0|\n",
      "|        IT|    41.0|    72600.0|\n",
      "+----------+--------+-----------+\n",
      "\n"
     ]
    }
   ],
   "source": [
    "# Group by department, get average salary\n",
    "df.groupBy(\"Department\").mean().show()"
   ]
  },
  {
   "cell_type": "code",
   "execution_count": 19,
   "id": "4793d9e7-3984-4a6c-9ab6-0462a97b8c30",
   "metadata": {},
   "outputs": [
    {
     "name": "stdout",
     "output_type": "stream",
     "text": [
      "+----------+--------+-----------+\n",
      "|Department|sum(Age)|sum(Salary)|\n",
      "+----------+--------+-----------+\n",
      "|     Sales|     159|     291000|\n",
      "|        HR|     170|     322000|\n",
      "|   Finance|     168|     332000|\n",
      "| Marketing|     164|     314000|\n",
      "|        IT|     205|     363000|\n",
      "+----------+--------+-----------+\n",
      "\n"
     ]
    }
   ],
   "source": [
    "# Get total salary by department\n",
    "df.groupBy(\"Department\").sum().show()"
   ]
  },
  {
   "cell_type": "code",
   "execution_count": 20,
   "id": "5fe82116-11d8-46b6-b98e-b1b052af2bda",
   "metadata": {},
   "outputs": [
    {
     "name": "stdout",
     "output_type": "stream",
     "text": [
      "+----------+-----+\n",
      "|Department|count|\n",
      "+----------+-----+\n",
      "|     Sales|    5|\n",
      "|        HR|    5|\n",
      "|   Finance|    5|\n",
      "| Marketing|    5|\n",
      "|        IT|    5|\n",
      "+----------+-----+\n",
      "\n"
     ]
    }
   ],
   "source": [
    "# Get total emploee on each department\n",
    "df.groupBy(\"Department\").count().show()"
   ]
  },
  {
   "cell_type": "markdown",
   "id": "870f3d03-3ef6-4711-bae1-917a7b777fb2",
   "metadata": {},
   "source": [
    "### orderBy"
   ]
  },
  {
   "cell_type": "code",
   "execution_count": 28,
   "id": "fd7e8c87-bad3-4cef-9370-25eeb857d8ee",
   "metadata": {},
   "outputs": [
    {
     "data": {
      "text/plain": [
       "Row(Employee Name='Michael Johnson', Age=42, Sex='Male', Department='IT', Country='UK', Salary=75000)"
      ]
     },
     "execution_count": 28,
     "metadata": {},
     "output_type": "execute_result"
    }
   ],
   "source": [
    "# Get the employee having maximum salary\n",
    "from pyspark.sql.functions import col\n",
    "df.orderBy(col(\"Salary\").desc()).first()"
   ]
  },
  {
   "cell_type": "code",
   "execution_count": 34,
   "id": "49466117-8dd6-4fa7-b9cb-b3a93243d8d4",
   "metadata": {},
   "outputs": [
    {
     "data": {
      "text/plain": [
       "Row(Employee Name='Michael Johnson', Age=42, Sex='Male', Department='IT', Country='UK', Salary=75000)"
      ]
     },
     "execution_count": 34,
     "metadata": {},
     "output_type": "execute_result"
    }
   ],
   "source": [
    "df.orderBy(col(\"Salary\"), ascending=False).first()"
   ]
  },
  {
   "cell_type": "code",
   "execution_count": 29,
   "id": "d914d41a-82ff-4f7c-b6b0-bd51eaede26b",
   "metadata": {},
   "outputs": [
    {
     "data": {
      "text/plain": [
       "Row(Employee Name='John Doe', Age=28, Sex='Male', Department='Sales', Country='USA', Salary=55000)"
      ]
     },
     "execution_count": 29,
     "metadata": {},
     "output_type": "execute_result"
    }
   ],
   "source": [
    "# Get the employee having minimum salary\n",
    "df.orderBy(col(\"Salary\").asc()).first()"
   ]
  },
  {
   "cell_type": "code",
   "execution_count": 33,
   "id": "01834232-2d1c-4d5f-8921-f222ac174a1a",
   "metadata": {},
   "outputs": [
    {
     "data": {
      "text/plain": [
       "Row(Employee Name='John Doe', Age=28, Sex='Male', Department='Sales', Country='USA', Salary=55000)"
      ]
     },
     "execution_count": 33,
     "metadata": {},
     "output_type": "execute_result"
    }
   ],
   "source": [
    "# or\n",
    "df.orderBy(col(\"Salary\"), ascending=True).first()"
   ]
  },
  {
   "cell_type": "code",
   "execution_count": null,
   "id": "a08d5ed5-5712-411a-9ab1-16fe962f81d0",
   "metadata": {},
   "outputs": [],
   "source": []
  }
 ],
 "metadata": {
  "kernelspec": {
   "display_name": "Python 3 (ipykernel)",
   "language": "python",
   "name": "python3"
  },
  "language_info": {
   "codemirror_mode": {
    "name": "ipython",
    "version": 3
   },
   "file_extension": ".py",
   "mimetype": "text/x-python",
   "name": "python",
   "nbconvert_exporter": "python",
   "pygments_lexer": "ipython3",
   "version": "3.8.18"
  }
 },
 "nbformat": 4,
 "nbformat_minor": 5
}
